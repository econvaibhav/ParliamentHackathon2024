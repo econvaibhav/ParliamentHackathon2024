{
 "cells": [
  {
   "cell_type": "code",
   "execution_count": 5,
   "id": "b520ddea",
   "metadata": {},
   "outputs": [
    {
     "ename": "AttributeError",
     "evalue": "'xml.etree.ElementTree.Element' object has no attribute 'xpath'",
     "output_type": "error",
     "traceback": [
      "\u001b[0;31m---------------------------------------------------------------------------\u001b[0m",
      "\u001b[0;31mAttributeError\u001b[0m                            Traceback (most recent call last)",
      "Cell \u001b[0;32mIn[5], line 23\u001b[0m\n\u001b[1;32m     20\u001b[0m xml_file \u001b[38;5;241m=\u001b[39m \u001b[38;5;124m'\u001b[39m\u001b[38;5;124m/home/elmaneva/koulu/dhh/ParlaMint-GB.TEI/2015/ParlaMint-GB_2015-12-22-lords.xml\u001b[39m\u001b[38;5;124m'\u001b[39m\n\u001b[1;32m     22\u001b[0m \u001b[38;5;66;03m# Extract elements with the specified ID prefix\u001b[39;00m\n\u001b[0;32m---> 23\u001b[0m data \u001b[38;5;241m=\u001b[39m \u001b[43mextract_elements_with_id\u001b[49m\u001b[43m(\u001b[49m\u001b[43mxml_file\u001b[49m\u001b[43m,\u001b[49m\u001b[43m \u001b[49m\u001b[38;5;124;43m'\u001b[39;49m\u001b[38;5;124;43mParlaMint-GB_2022-01-05-\u001b[39;49m\u001b[38;5;124;43m'\u001b[39;49m\u001b[43m)\u001b[49m\n\u001b[1;32m     25\u001b[0m \u001b[38;5;66;03m# Create a dataframe\u001b[39;00m\n\u001b[1;32m     26\u001b[0m df \u001b[38;5;241m=\u001b[39m pd\u001b[38;5;241m.\u001b[39mDataFrame(data)\n",
      "Cell \u001b[0;32mIn[5], line 9\u001b[0m, in \u001b[0;36mextract_elements_with_id\u001b[0;34m(xml_file, id_prefix)\u001b[0m\n\u001b[1;32m      7\u001b[0m root \u001b[38;5;241m=\u001b[39m tree\u001b[38;5;241m.\u001b[39mgetroot()\n\u001b[1;32m      8\u001b[0m namespace \u001b[38;5;241m=\u001b[39m {\u001b[38;5;124m'\u001b[39m\u001b[38;5;124mtei\u001b[39m\u001b[38;5;124m'\u001b[39m: \u001b[38;5;124m'\u001b[39m\u001b[38;5;124mhttp://www.tei-c.org/ns/1.0\u001b[39m\u001b[38;5;124m'\u001b[39m}\n\u001b[0;32m----> 9\u001b[0m elements \u001b[38;5;241m=\u001b[39m \u001b[43mroot\u001b[49m\u001b[38;5;241;43m.\u001b[39;49m\u001b[43mxpath\u001b[49m(\u001b[38;5;124mf\u001b[39m\u001b[38;5;124m'\u001b[39m\u001b[38;5;124m//*[starts-with(@xml:id, \u001b[39m\u001b[38;5;124m\"\u001b[39m\u001b[38;5;132;01m{\u001b[39;00mid_prefix\u001b[38;5;132;01m}\u001b[39;00m\u001b[38;5;124m\"\u001b[39m\u001b[38;5;124m)]\u001b[39m\u001b[38;5;124m'\u001b[39m, namespaces\u001b[38;5;241m=\u001b[39mnamespace)\n\u001b[1;32m     11\u001b[0m data \u001b[38;5;241m=\u001b[39m []\n\u001b[1;32m     12\u001b[0m \u001b[38;5;28;01mfor\u001b[39;00m elem \u001b[38;5;129;01min\u001b[39;00m elements:\n",
      "\u001b[0;31mAttributeError\u001b[0m: 'xml.etree.ElementTree.Element' object has no attribute 'xpath'"
     ]
    }
   ],
   "source": [
    "import pandas as pd\n",
    "import xml.etree.ElementTree as ET\n",
    "\n",
    "\n",
    "def extract_elements_with_id(xml_file, id_prefix):\n",
    "    tree = ET.parse(xml_file)\n",
    "    root = tree.getroot()\n",
    "    namespace = {'tei': 'http://www.tei-c.org/ns/1.0'}\n",
    "    elements = root.xpath(f'//*[starts-with(@xml:id, \"{id_prefix}\")]', namespaces=namespace)\n",
    "    \n",
    "    data = []\n",
    "    for elem in elements:\n",
    "        elem_id = elem.attrib.get('{http://www.w3.org/XML/1998/namespace}id', '')\n",
    "        text = ''.join(elem.itertext()).strip()\n",
    "        data.append({'id': elem_id, 'text': text})\n",
    "    \n",
    "    return data\n",
    "\n",
    "# Path to the XML file\n",
    "xml_file = '/home/elmaneva/koulu/dhh/ParlaMint-GB.TEI/2015/ParlaMint-GB_2015-12-22-lords.xml'\n",
    "\n",
    "# Extract elements with the specified ID prefix\n",
    "data = extract_elements_with_id(xml_file, 'ParlaMint-GB_2022-01-05-')\n",
    "\n",
    "# Create a dataframe\n",
    "df = pd.DataFrame(data)\n",
    "\n",
    "# Display the dataframe\n",
    "print(df)\n",
    "\n",
    "# Optionally, save the dataframe to a CSV file\n",
    "df.to_csv('output.csv', index=False)\n",
    "\n"
   ]
  },
  {
   "cell_type": "code",
   "execution_count": 15,
   "id": "062c9ab5",
   "metadata": {},
   "outputs": [
    {
     "data": {
      "text/plain": [
       "{'tei': 'http://www.tei-c.org/ns/1.0'}"
      ]
     },
     "execution_count": 15,
     "metadata": {},
     "output_type": "execute_result"
    }
   ],
   "source": [
    "namespace"
   ]
  }
 ],
 "metadata": {
  "kernelspec": {
   "display_name": "Python 3 (ipykernel)",
   "language": "python",
   "name": "python3"
  },
  "language_info": {
   "codemirror_mode": {
    "name": "ipython",
    "version": 3
   },
   "file_extension": ".py",
   "mimetype": "text/x-python",
   "name": "python",
   "nbconvert_exporter": "python",
   "pygments_lexer": "ipython3",
   "version": "3.10.10"
  }
 },
 "nbformat": 4,
 "nbformat_minor": 5
}
