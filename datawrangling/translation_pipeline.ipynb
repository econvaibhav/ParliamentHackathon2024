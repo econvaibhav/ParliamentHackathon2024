{
 "cells": [
  {
   "metadata": {},
   "cell_type": "markdown",
   "source": "# Translation Pipeline",
   "id": "5d49b7d4962fd8d4"
  },
  {
   "cell_type": "code",
   "id": "initial_id",
   "metadata": {
    "collapsed": true,
    "ExecuteTime": {
     "end_time": "2024-05-23T09:08:48.163759Z",
     "start_time": "2024-05-23T09:08:35.237335Z"
    }
   },
   "source": [
    "import deepl\n",
    "api_key = \"a6e1752e-a53b-42ad-809f-c4b67512cdbc:fx\"\n",
    "translator = deepl.Translator(api_key)\n",
    "\n",
    "input_path = \"C:\\\\Users\\\\shad4\\\\Downloads\\\\Finnish Printing\\\\anew_emotion.xlsx\"\n",
    "output_path = \"files\\\\anew_emotion_slovenian.csv\"\n",
    "\n",
    "try:\n",
    "    with open(input_path, \"rb\") as in_file, open(output_path, \"wb\") as out_file:\n",
    "        translator.translate_document(\n",
    "            in_file,\n",
    "            out_file,\n",
    "            target_lang=\"SL\"\n",
    "        )\n",
    "    print(\"Finished with translation.\")\n",
    "except deepl.DocumentTranslationException as error:\n",
    "    # If an error occurs during document translation after the document was\n",
    "    # already uploaded, a DocumentTranslationException is raised. The\n",
    "    # document_handle property contains the document handle that may be used to\n",
    "    # later retrieve the document from the server, or contact DeepL support.\n",
    "    doc_id = error.document_handle.id\n",
    "    doc_key = error.document_handle.key\n",
    "    print(f\"Error after uploading ${error}, id: ${doc_id} key: ${doc_key}\")\n",
    "except deepl.DeepLException as error:\n",
    "    # Errors during upload raise a DeepLException\n",
    "    print(error)"
   ],
   "outputs": [
    {
     "name": "stdout",
     "output_type": "stream",
     "text": [
      "Finished with translation.\n"
     ]
    }
   ],
   "execution_count": 14
  }
 ],
 "metadata": {
  "kernelspec": {
   "display_name": "Python 3",
   "language": "python",
   "name": "python3"
  },
  "language_info": {
   "codemirror_mode": {
    "name": "ipython",
    "version": 2
   },
   "file_extension": ".py",
   "mimetype": "text/x-python",
   "name": "python",
   "nbconvert_exporter": "python",
   "pygments_lexer": "ipython2",
   "version": "2.7.6"
  }
 },
 "nbformat": 4,
 "nbformat_minor": 5
}
