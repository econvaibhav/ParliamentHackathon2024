{
 "cells": [
  {
   "cell_type": "code",
   "execution_count": 2,
   "id": "f73e8293-bf46-4f48-9123-f3f126e2560b",
   "metadata": {},
   "outputs": [
    {
     "name": "stderr",
     "output_type": "stream",
     "text": [
      "Downloading readme: 100%|██████████████████████████████████████████████████████████████████████| 9.40k/9.40k [00:00<00:00, 16.1MB/s]\n",
      "Downloading data: 100%|████████████████████████████████████████████████████████████████████████| 2.77M/2.77M [00:01<00:00, 1.75MB/s]\n",
      "Downloading data: 100%|███████████████████████████████████████████████████████████████████████████| 350k/350k [00:01<00:00, 185kB/s]\n",
      "Downloading data: 100%|███████████████████████████████████████████████████████████████████████████| 347k/347k [00:01<00:00, 322kB/s]\n",
      "Generating train split: 100%|██████████████████████████████████████████████████████| 43410/43410 [00:00<00:00, 343416.07 examples/s]\n",
      "Generating validation split: 100%|███████████████████████████████████████████████████| 5426/5426 [00:00<00:00, 240418.90 examples/s]\n",
      "Generating test split: 100%|█████████████████████████████████████████████████████████| 5427/5427 [00:00<00:00, 248993.50 examples/s]\n"
     ]
    },
    {
     "data": {
      "text/plain": [
       "DatasetDict({\n",
       "    train: Dataset({\n",
       "        features: ['text', 'labels', 'id'],\n",
       "        num_rows: 43410\n",
       "    })\n",
       "    validation: Dataset({\n",
       "        features: ['text', 'labels', 'id'],\n",
       "        num_rows: 5426\n",
       "    })\n",
       "    test: Dataset({\n",
       "        features: ['text', 'labels', 'id'],\n",
       "        num_rows: 5427\n",
       "    })\n",
       "})"
      ]
     },
     "execution_count": 2,
     "metadata": {},
     "output_type": "execute_result"
    }
   ],
   "source": [
    "from datasets import load_dataset\n",
    "dataset = load_dataset(\"go_emotions\")\n",
    "\n",
    "dataset"
   ]
  },
  {
   "cell_type": "code",
   "execution_count": null,
   "id": "ce0fbd8a-1ff6-4361-bba3-eb3b73c741df",
   "metadata": {},
   "outputs": [],
   "source": []
  }
 ],
 "metadata": {
  "kernelspec": {
   "display_name": "Python 3 (ipykernel)",
   "language": "python",
   "name": "python3"
  },
  "language_info": {
   "codemirror_mode": {
    "name": "ipython",
    "version": 3
   },
   "file_extension": ".py",
   "mimetype": "text/x-python",
   "name": "python",
   "nbconvert_exporter": "python",
   "pygments_lexer": "ipython3",
   "version": "3.11.8"
  }
 },
 "nbformat": 4,
 "nbformat_minor": 5
}
