{
 "cells": [
  {
   "cell_type": "markdown",
   "id": "170e3545-28eb-494f-9fde-6029c9c2a6e1",
   "metadata": {},
   "source": [
    "# GoEmotions data "
   ]
  },
  {
   "cell_type": "code",
   "execution_count": 35,
   "id": "f73e8293-bf46-4f48-9123-f3f126e2560b",
   "metadata": {},
   "outputs": [
    {
     "name": "stderr",
     "output_type": "stream",
     "text": [
      "/nix/store/yd5z6lnhsjim5ik01zbjaijnagi2mn5d-python3.11-tqdm-4.66.2/lib/python3.11/site-packages/tqdm/auto.py:21: TqdmWarning: IProgress not found. Please update jupyter and ipywidgets. See https://ipywidgets.readthedocs.io/en/stable/user_install.html\n",
      "  from .autonotebook import tqdm as notebook_tqdm\n"
     ]
    },
    {
     "data": {
      "text/plain": [
       "DatasetDict({\n",
       "    train: Dataset({\n",
       "        features: ['text', 'labels', 'id'],\n",
       "        num_rows: 43410\n",
       "    })\n",
       "    validation: Dataset({\n",
       "        features: ['text', 'labels', 'id'],\n",
       "        num_rows: 5426\n",
       "    })\n",
       "    test: Dataset({\n",
       "        features: ['text', 'labels', 'id'],\n",
       "        num_rows: 5427\n",
       "    })\n",
       "})"
      ]
     },
     "execution_count": 35,
     "metadata": {},
     "output_type": "execute_result"
    }
   ],
   "source": [
    "from datasets import load_dataset\n",
    "dataset = load_dataset(\"go_emotions\")\n",
    "\n",
    "dataset"
   ]
  },
  {
   "cell_type": "markdown",
   "id": "b88c5efa-db90-43ca-8377-ccc50f8ec2e5",
   "metadata": {},
   "source": [
    "# XED data"
   ]
  },
  {
   "cell_type": "code",
   "execution_count": 1,
   "id": "3172a870-acc4-432b-a44b-1a824a965d78",
   "metadata": {},
   "outputs": [],
   "source": [
    "import polars as pl\n",
    "import os \n",
    "# get all files per country\n",
    "path = \"emotion-data/XED\"\n",
    "files = os.listdir(path)"
   ]
  },
  {
   "cell_type": "code",
   "execution_count": 8,
   "id": "84a0369b-56eb-4c0e-abeb-7e34ccc4f80f",
   "metadata": {},
   "outputs": [],
   "source": [
    "df = pl.DataFrame()\n",
    "schema = {\"text\":pl.String,\n",
    "          \"labels\":pl.String,\n",
    "         \"language\":pl.String}\n",
    "for f in files:\n",
    "    tmp = pl.read_csv(path+\"/\"+f, separator=\"\\t\",schema=schema, ignore_errors=True)\n",
    "    lang = f.split(\"-\")[0]\n",
    "    tmp = tmp.with_columns(language=pl.Series([lang]*len(tmp)))\n",
    "    if tmp.is_empty():\n",
    "        df=tmp\n",
    "    else:\n",
    "        df=pl.concat([df,tmp],how=\"vertical\")"
   ]
  },
  {
   "cell_type": "code",
   "execution_count": 9,
   "id": "f17daabb-c6a1-4a4f-a94d-ab2e4e61db78",
   "metadata": {},
   "outputs": [
    {
     "data": {
      "text/html": [
       "<div><style>\n",
       ".dataframe > thead > tr,\n",
       ".dataframe > tbody > tr {\n",
       "  text-align: right;\n",
       "  white-space: pre-wrap;\n",
       "}\n",
       "</style>\n",
       "<small>shape: (207_909, 3)</small><table border=\"1\" class=\"dataframe\"><thead><tr><th>text</th><th>labels</th><th>language</th></tr><tr><td>str</td><td>str</td><td>str</td></tr></thead><tbody><tr><td>&quot;Ruumiita ripus…</td><td>&quot;1, 3, 4&quot;</td><td>&quot;fi&quot;</td></tr><tr><td>&quot;Ei mitään mutt…</td><td>&quot;1&quot;</td><td>&quot;fi&quot;</td></tr><tr><td>&quot;Älä anna hänen…</td><td>&quot;1&quot;</td><td>&quot;fi&quot;</td></tr><tr><td>&quot;Laske aseet ma…</td><td>&quot;1, 4&quot;</td><td>&quot;fi&quot;</td></tr><tr><td>&quot;Vittuun toimis…</td><td>&quot;1&quot;</td><td>&quot;fi&quot;</td></tr><tr><td>&hellip;</td><td>&hellip;</td><td>&hellip;</td></tr><tr><td>&quot;美國人民 我聽到了你們的聲音…</td><td>&quot;8&quot;</td><td>&quot;zh&quot;</td></tr><tr><td>&quot;她很擅長她的工作&quot;</td><td>&quot;1, 3&quot;</td><td>&quot;zh&quot;</td></tr><tr><td>&quot;湯姆...&quot;</td><td>&quot;8&quot;</td><td>&quot;zh&quot;</td></tr><tr><td>&quot;如果他們要和我見面怎么辦&quot;</td><td>&quot;2, 5&quot;</td><td>&quot;zh&quot;</td></tr><tr><td>&quot;我沒有朋友&quot;</td><td>&quot;2, 5&quot;</td><td>&quot;zh&quot;</td></tr></tbody></table></div>"
      ],
      "text/plain": [
       "shape: (207_909, 3)\n",
       "┌───────────────────────────────────┬─────────┬──────────┐\n",
       "│ text                              ┆ labels  ┆ language │\n",
       "│ ---                               ┆ ---     ┆ ---      │\n",
       "│ str                               ┆ str     ┆ str      │\n",
       "╞═══════════════════════════════════╪═════════╪══════════╡\n",
       "│ Ruumiita ripustettuina - ruumiit… ┆ 1, 3, 4 ┆ fi       │\n",
       "│ Ei mitään muttia.                 ┆ 1       ┆ fi       │\n",
       "│ Älä anna hänen määräillä sinua!   ┆ 1       ┆ fi       │\n",
       "│ Laske aseet maahan.               ┆ 1, 4    ┆ fi       │\n",
       "│ Vittuun toimisto!                 ┆ 1       ┆ fi       │\n",
       "│ …                                 ┆ …       ┆ …        │\n",
       "│ 美國人民 我聽到了你們的聲音\n",
       "       ┆ 8       ┆ zh       │\n",
       "│ da/2017/6411842/…                 ┆         ┆          │\n",
       "│ 她很擅長她的工作                  ┆ 1, 3    ┆ zh       │\n",
       "│ 湯姆...                           ┆ 8       ┆ zh       │\n",
       "│ 如果他們要和我見面怎么辦          ┆ 2, 5    ┆ zh       │\n",
       "│ 我沒有朋友                        ┆ 2, 5    ┆ zh       │\n",
       "└───────────────────────────────────┴─────────┴──────────┘"
      ]
     },
     "execution_count": 9,
     "metadata": {},
     "output_type": "execute_result"
    }
   ],
   "source": [
    "df"
   ]
  },
  {
   "cell_type": "code",
   "execution_count": 10,
   "id": "6240f776-457f-400c-af56-192e791e77b8",
   "metadata": {},
   "outputs": [
    {
     "data": {
      "text/html": [
       "<div><style>\n",
       ".dataframe > thead > tr,\n",
       ".dataframe > tbody > tr {\n",
       "  text-align: right;\n",
       "  white-space: pre-wrap;\n",
       "}\n",
       "</style>\n",
       "<small>shape: (318,)</small><table border=\"1\" class=\"dataframe\"><thead><tr><th>labels</th></tr><tr><td>str</td></tr></thead><tbody><tr><td>&quot;1, 2, 3, 4, 6&quot;</td></tr><tr><td>&quot;8, 2, 4&quot;</td></tr><tr><td>&quot;6, 7, 1&quot;</td></tr><tr><td>&quot;4, 5, 7&quot;</td></tr><tr><td>&quot;1, 7, 8&quot;</td></tr><tr><td>&hellip;</td></tr><tr><td>&quot;2, 4, 5, 7, 8&quot;</td></tr><tr><td>&quot;8, 2, 3, 6&quot;</td></tr><tr><td>&quot;2, 3, 4, 6, 7&quot;</td></tr><tr><td>&quot;2, 4, 6&quot;</td></tr><tr><td>&quot;2, 5, 8&quot;</td></tr></tbody></table></div>"
      ],
      "text/plain": [
       "shape: (318,)\n",
       "Series: 'labels' [str]\n",
       "[\n",
       "\t\"1, 2, 3, 4, 6\"\n",
       "\t\"8, 2, 4\"\n",
       "\t\"6, 7, 1\"\n",
       "\t\"4, 5, 7\"\n",
       "\t\"1, 7, 8\"\n",
       "\t…\n",
       "\t\"2, 4, 5, 7, 8\"\n",
       "\t\"8, 2, 3, 6\"\n",
       "\t\"2, 3, 4, 6, 7\"\n",
       "\t\"2, 4, 6\"\n",
       "\t\"2, 5, 8\"\n",
       "]"
      ]
     },
     "execution_count": 10,
     "metadata": {},
     "output_type": "execute_result"
    }
   ],
   "source": [
    "df[\"labels\"].unique()"
   ]
  },
  {
   "cell_type": "code",
   "execution_count": 16,
   "id": "f906bd32-510f-41f3-9572-ec59ed5b1227",
   "metadata": {},
   "outputs": [],
   "source": [
    "# exclude languages not present in parlamint 4.0 dataset\n",
    "# language codes by ISO 639 in parlamint\n",
    "lang_codes = [\"bs\",\"bg\",\"hr\",\"cs\",\"da\",\"nl\",\"en\",\"et\",\"fi\",\"fr\",\"de\",\n",
    "                 \"hu\",\"is\",\"it\",\"lv\",\"el\",\"no\",\"pl\",\"pt\",\"ru\",\"sr\",\"sl\",\n",
    "                 \"es\",\"sv\",\"tr\",\"uk\"]\n",
    "\n",
    "# exclude langs\n",
    "df = df.filter(pl.col(\"language\").is_in(lang_codes))"
   ]
  },
  {
   "cell_type": "code",
   "execution_count": 17,
   "id": "70947685-5eb4-4d0e-8d9e-0e81218270f9",
   "metadata": {},
   "outputs": [],
   "source": [
    "# convert string labels to list and recode from 0 to n-1\n",
    "df = df.with_columns(pl.col(\"labels\").map_elements(lambda s: [[int(x)-1] for x in s.split(\",\") if x.isdigit]))"
   ]
  },
  {
   "cell_type": "code",
   "execution_count": null,
   "id": "c8ae5bfa-6687-4c05-bf76-e511e0c83b8e",
   "metadata": {},
   "outputs": [],
   "source": [
    "# assess class-imbalance problem\n"
   ]
  },
  {
   "cell_type": "code",
   "execution_count": 18,
   "id": "2b3e625d-c325-406a-aaa6-938fb2945e44",
   "metadata": {},
   "outputs": [],
   "source": [
    "# save full dataset\n",
    "df.select(pl.col(\"text\",\"labels\")).write_parquet(\"data.parquet\")"
   ]
  },
  {
   "cell_type": "code",
   "execution_count": 83,
   "id": "01b541e3-c1f7-4658-b4bf-b395524ac64e",
   "metadata": {},
   "outputs": [
    {
     "name": "stdout",
     "output_type": "stream",
     "text": [
      "shape: (207_909,)\n",
      "Series: 'labels' [list[list[i64]]]\n",
      "[\n",
      "\t[[0], [2], [3]]\n",
      "\t[[0]]\n",
      "\t[[0]]\n",
      "\t[[0], [3]]\n",
      "\t[[0]]\n",
      "\t…\n",
      "\t[[7]]\n",
      "\t[[0], [2]]\n",
      "\t[[7]]\n",
      "\t[[1], [4]]\n",
      "\t[[1], [4]]\n",
      "]\n"
     ]
    },
    {
     "ename": "ValueError",
     "evalue": "operands could not be broadcast together with shapes (2,) (3,) ",
     "output_type": "error",
     "traceback": [
      "\u001b[0;31m---------------------------------------------------------------------------\u001b[0m",
      "\u001b[0;31mValueError\u001b[0m                                Traceback (most recent call last)",
      "Cell \u001b[0;32mIn[83], line 8\u001b[0m\n\u001b[1;32m      6\u001b[0m \u001b[38;5;28mprint\u001b[39m(y)\n\u001b[1;32m      7\u001b[0m \u001b[38;5;66;03m#np.unique(y)\u001b[39;00m\n\u001b[0;32m----> 8\u001b[0m class_weights \u001b[38;5;241m=\u001b[39m \u001b[43mcompute_sample_weight\u001b[49m\u001b[43m(\u001b[49m\u001b[43mclass_weight\u001b[49m\u001b[38;5;241;43m=\u001b[39;49m\u001b[38;5;124;43m\"\u001b[39;49m\u001b[38;5;124;43mbalanced\u001b[39;49m\u001b[38;5;124;43m\"\u001b[39;49m\u001b[43m,\u001b[49m\u001b[43m \u001b[49m\u001b[43my\u001b[49m\u001b[38;5;241;43m=\u001b[39;49m\u001b[43my\u001b[49m\u001b[43m)\u001b[49m\n",
      "File \u001b[0;32m/nix/store/5bv2nm3c478ppikbh49cp5436wy3k1ii-python3.11-scikit-learn-1.4.1.post1/lib/python3.11/site-packages/sklearn/utils/_param_validation.py:213\u001b[0m, in \u001b[0;36mvalidate_params.<locals>.decorator.<locals>.wrapper\u001b[0;34m(*args, **kwargs)\u001b[0m\n\u001b[1;32m    207\u001b[0m \u001b[38;5;28;01mtry\u001b[39;00m:\n\u001b[1;32m    208\u001b[0m     \u001b[38;5;28;01mwith\u001b[39;00m config_context(\n\u001b[1;32m    209\u001b[0m         skip_parameter_validation\u001b[38;5;241m=\u001b[39m(\n\u001b[1;32m    210\u001b[0m             prefer_skip_nested_validation \u001b[38;5;129;01mor\u001b[39;00m global_skip_validation\n\u001b[1;32m    211\u001b[0m         )\n\u001b[1;32m    212\u001b[0m     ):\n\u001b[0;32m--> 213\u001b[0m         \u001b[38;5;28;01mreturn\u001b[39;00m \u001b[43mfunc\u001b[49m\u001b[43m(\u001b[49m\u001b[38;5;241;43m*\u001b[39;49m\u001b[43margs\u001b[49m\u001b[43m,\u001b[49m\u001b[43m \u001b[49m\u001b[38;5;241;43m*\u001b[39;49m\u001b[38;5;241;43m*\u001b[39;49m\u001b[43mkwargs\u001b[49m\u001b[43m)\u001b[49m\n\u001b[1;32m    214\u001b[0m \u001b[38;5;28;01mexcept\u001b[39;00m InvalidParameterError \u001b[38;5;28;01mas\u001b[39;00m e:\n\u001b[1;32m    215\u001b[0m     \u001b[38;5;66;03m# When the function is just a wrapper around an estimator, we allow\u001b[39;00m\n\u001b[1;32m    216\u001b[0m     \u001b[38;5;66;03m# the function to delegate validation to the estimator, but we replace\u001b[39;00m\n\u001b[1;32m    217\u001b[0m     \u001b[38;5;66;03m# the name of the estimator by the name of the function in the error\u001b[39;00m\n\u001b[1;32m    218\u001b[0m     \u001b[38;5;66;03m# message to avoid confusion.\u001b[39;00m\n\u001b[1;32m    219\u001b[0m     msg \u001b[38;5;241m=\u001b[39m re\u001b[38;5;241m.\u001b[39msub(\n\u001b[1;32m    220\u001b[0m         \u001b[38;5;124mr\u001b[39m\u001b[38;5;124m\"\u001b[39m\u001b[38;5;124mparameter of \u001b[39m\u001b[38;5;124m\\\u001b[39m\u001b[38;5;124mw+ must be\u001b[39m\u001b[38;5;124m\"\u001b[39m,\n\u001b[1;32m    221\u001b[0m         \u001b[38;5;124mf\u001b[39m\u001b[38;5;124m\"\u001b[39m\u001b[38;5;124mparameter of \u001b[39m\u001b[38;5;132;01m{\u001b[39;00mfunc\u001b[38;5;241m.\u001b[39m\u001b[38;5;18m__qualname__\u001b[39m\u001b[38;5;132;01m}\u001b[39;00m\u001b[38;5;124m must be\u001b[39m\u001b[38;5;124m\"\u001b[39m,\n\u001b[1;32m    222\u001b[0m         \u001b[38;5;28mstr\u001b[39m(e),\n\u001b[1;32m    223\u001b[0m     )\n",
      "File \u001b[0;32m/nix/store/5bv2nm3c478ppikbh49cp5436wy3k1ii-python3.11-scikit-learn-1.4.1.post1/lib/python3.11/site-packages/sklearn/utils/class_weight.py:185\u001b[0m, in \u001b[0;36mcompute_sample_weight\u001b[0;34m(class_weight, y, indices)\u001b[0m\n\u001b[1;32m    183\u001b[0m \u001b[38;5;28;01melse\u001b[39;00m:\n\u001b[1;32m    184\u001b[0m     y_full \u001b[38;5;241m=\u001b[39m y[:, k]\n\u001b[0;32m--> 185\u001b[0m classes_full \u001b[38;5;241m=\u001b[39m \u001b[43mnp\u001b[49m\u001b[38;5;241;43m.\u001b[39;49m\u001b[43munique\u001b[49m\u001b[43m(\u001b[49m\u001b[43my_full\u001b[49m\u001b[43m)\u001b[49m\n\u001b[1;32m    186\u001b[0m classes_missing \u001b[38;5;241m=\u001b[39m \u001b[38;5;28;01mNone\u001b[39;00m\n\u001b[1;32m    188\u001b[0m \u001b[38;5;28;01mif\u001b[39;00m class_weight \u001b[38;5;241m==\u001b[39m \u001b[38;5;124m\"\u001b[39m\u001b[38;5;124mbalanced\u001b[39m\u001b[38;5;124m\"\u001b[39m \u001b[38;5;129;01mor\u001b[39;00m n_outputs \u001b[38;5;241m==\u001b[39m \u001b[38;5;241m1\u001b[39m:\n",
      "File \u001b[0;32m/nix/store/x1rqfn240xn6m6p6077gxfqxdxxj1cmc-python3.11-numpy-1.26.4/lib/python3.11/site-packages/numpy/lib/arraysetops.py:274\u001b[0m, in \u001b[0;36munique\u001b[0;34m(ar, return_index, return_inverse, return_counts, axis, equal_nan)\u001b[0m\n\u001b[1;32m    272\u001b[0m ar \u001b[38;5;241m=\u001b[39m np\u001b[38;5;241m.\u001b[39masanyarray(ar)\n\u001b[1;32m    273\u001b[0m \u001b[38;5;28;01mif\u001b[39;00m axis \u001b[38;5;129;01mis\u001b[39;00m \u001b[38;5;28;01mNone\u001b[39;00m:\n\u001b[0;32m--> 274\u001b[0m     ret \u001b[38;5;241m=\u001b[39m \u001b[43m_unique1d\u001b[49m\u001b[43m(\u001b[49m\u001b[43mar\u001b[49m\u001b[43m,\u001b[49m\u001b[43m \u001b[49m\u001b[43mreturn_index\u001b[49m\u001b[43m,\u001b[49m\u001b[43m \u001b[49m\u001b[43mreturn_inverse\u001b[49m\u001b[43m,\u001b[49m\u001b[43m \u001b[49m\u001b[43mreturn_counts\u001b[49m\u001b[43m,\u001b[49m\u001b[43m \u001b[49m\n\u001b[1;32m    275\u001b[0m \u001b[43m                    \u001b[49m\u001b[43mequal_nan\u001b[49m\u001b[38;5;241;43m=\u001b[39;49m\u001b[43mequal_nan\u001b[49m\u001b[43m)\u001b[49m\n\u001b[1;32m    276\u001b[0m     \u001b[38;5;28;01mreturn\u001b[39;00m _unpack_tuple(ret)\n\u001b[1;32m    278\u001b[0m \u001b[38;5;66;03m# axis was specified and not None\u001b[39;00m\n",
      "File \u001b[0;32m/nix/store/x1rqfn240xn6m6p6077gxfqxdxxj1cmc-python3.11-numpy-1.26.4/lib/python3.11/site-packages/numpy/lib/arraysetops.py:336\u001b[0m, in \u001b[0;36m_unique1d\u001b[0;34m(ar, return_index, return_inverse, return_counts, equal_nan)\u001b[0m\n\u001b[1;32m    334\u001b[0m     aux \u001b[38;5;241m=\u001b[39m ar[perm]\n\u001b[1;32m    335\u001b[0m \u001b[38;5;28;01melse\u001b[39;00m:\n\u001b[0;32m--> 336\u001b[0m     ar\u001b[38;5;241m.\u001b[39msort()\n\u001b[1;32m    337\u001b[0m     aux \u001b[38;5;241m=\u001b[39m ar\n\u001b[1;32m    338\u001b[0m mask \u001b[38;5;241m=\u001b[39m np\u001b[38;5;241m.\u001b[39mempty(aux\u001b[38;5;241m.\u001b[39mshape, dtype\u001b[38;5;241m=\u001b[39mnp\u001b[38;5;241m.\u001b[39mbool_)\n",
      "\u001b[0;31mValueError\u001b[0m: operands could not be broadcast together with shapes (2,) (3,) "
     ]
    }
   ],
   "source": [
    "# calculate class-weights\n",
    "import numpy as np\n",
    "from sklearn.utils.class_weight import compute_sample_weight\n",
    "\n",
    "y = df[\"labels\"]\n",
    "print(y)\n",
    "#np.unique(y)\n",
    "class_weights = compute_sample_weight(class_weight=\"balanced\", y=y)\n"
   ]
  },
  {
   "cell_type": "markdown",
   "id": "f106a7e3-056d-49e0-9df2-0a22d7a789fd",
   "metadata": {},
   "source": [
    "# Combining datasets ?"
   ]
  },
  {
   "cell_type": "code",
   "execution_count": 89,
   "id": "8cee6a43-a250-495a-a9dd-a98e8e6574f5",
   "metadata": {},
   "outputs": [],
   "source": [
    "# recode labels goem\n",
    "labels_goem = {'0': \"admiration\",\n",
    "              '1': \"amusement\",\n",
    "              '2': \"anger\",\n",
    "              '3': \"annoyance\",\n",
    "              '4': \"approval\",\n",
    "              '5': \"caring\",\n",
    "              '6': \"confusion\",\n",
    "              '7': \"curiosity\",\n",
    "              '8': \"desire\",\n",
    "              '9': \"disappointment\",\n",
    "              '10': \"disapproval\",\n",
    "              '11': \"disgust\",\n",
    "              '12': \"embarrassment\", \n",
    "              '13': \"excitement\",\n",
    "              '14': \"fear\",\n",
    "              '15': \"gratitude\",\n",
    "              '16': \"grief\",\n",
    "              '17': \"joy\",\n",
    "              '18': \"love\",\n",
    "              '19': \"nervousness\",\n",
    "              '20': \"optimism\",\n",
    "              '21': \"pride\",\n",
    "              '22': \"realization\",\n",
    "              '23': \"relief\",\n",
    "              '24': \"remorse\",\n",
    "              '25': \"sadness\",\n",
    "              '26': \"surprise\",\n",
    "              '27': \"neutral\",\n",
    "}"
   ]
  },
  {
   "cell_type": "code",
   "execution_count": 90,
   "id": "64d41fe0-5a99-476f-9bff-ec9742ef9241",
   "metadata": {},
   "outputs": [],
   "source": [
    "# id2labels XED\n",
    "id2labels = {'1':\"anger\", \n",
    "            '2':\"anticipation\",\n",
    "              '3':\"disgust\", \n",
    "              '4':\"fear\", \n",
    "              '5':\"joy\", \n",
    "              '6':\"sadness\", \n",
    "              '7':\"surprise\", \n",
    "              '8':\"trust\",\n",
    "             }"
   ]
  },
  {
   "cell_type": "code",
   "execution_count": 91,
   "id": "c9f29cf9-b918-4803-ada9-709f0bdd5fc6",
   "metadata": {},
   "outputs": [],
   "source": [
    "# change order key value to recode through retrieval\n",
    "labels2id = {v:k for k,v in labels_xed.items()}"
   ]
  },
  {
   "cell_type": "markdown",
   "id": "390c893b-6b9e-416e-bc22-1be22507a0a3",
   "metadata": {},
   "source": [
    "# Model training notes"
   ]
  },
  {
   "cell_type": "markdown",
   "id": "1f71b74f-8d3b-405a-9097-f241e26946f4",
   "metadata": {},
   "source": [
    "- Train two different models: one multi- and one single-label\n",
    "- Train one model on only english data and one on translated data\n",
    "- Train one model on a combination of XED and GoEmotions data"
   ]
  }
 ],
 "metadata": {
  "kernelspec": {
   "display_name": "Python 3 (ipykernel)",
   "language": "python",
   "name": "python3"
  },
  "language_info": {
   "codemirror_mode": {
    "name": "ipython",
    "version": 3
   },
   "file_extension": ".py",
   "mimetype": "text/x-python",
   "name": "python",
   "nbconvert_exporter": "python",
   "pygments_lexer": "ipython3",
   "version": "3.11.8"
  }
 },
 "nbformat": 4,
 "nbformat_minor": 5
}
