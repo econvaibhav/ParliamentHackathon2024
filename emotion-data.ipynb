{
 "cells": [
  {
   "cell_type": "markdown",
   "id": "b88c5efa-db90-43ca-8377-ccc50f8ec2e5",
   "metadata": {},
   "source": [
    "# XED data"
   ]
  },
  {
   "cell_type": "code",
   "execution_count": 11,
   "id": "3172a870-acc4-432b-a44b-1a824a965d78",
   "metadata": {},
   "outputs": [],
   "source": [
    "import polars as pl\n",
    "import os \n",
    "# get all files per country\n",
    "path = \"emotion-data/XED\"\n",
    "files = os.listdir(path)"
   ]
  },
  {
   "cell_type": "code",
   "execution_count": 12,
   "id": "84a0369b-56eb-4c0e-abeb-7e34ccc4f80f",
   "metadata": {},
   "outputs": [],
   "source": [
    "df = pl.DataFrame()\n",
    "schema = {\"text\":pl.String,\n",
    "          \"labels\":pl.String,\n",
    "         \"language\":pl.String}\n",
    "for f in files:\n",
    "    tmp = pl.read_csv(path+\"/\"+f, separator=\"\\t\",schema=schema, ignore_errors=True)\n",
    "    lang = f.split(\"-\")[0]\n",
    "    tmp = tmp.with_columns(language=pl.Series([lang]*len(tmp)))\n",
    "    if tmp.is_empty():\n",
    "        df=tmp\n",
    "    else:\n",
    "        df=pl.concat([df,tmp],how=\"vertical\")"
   ]
  },
  {
   "cell_type": "code",
   "execution_count": 13,
   "id": "6240f776-457f-400c-af56-192e791e77b8",
   "metadata": {},
   "outputs": [
    {
     "data": {
      "text/html": [
       "<div><style>\n",
       ".dataframe > thead > tr,\n",
       ".dataframe > tbody > tr {\n",
       "  text-align: right;\n",
       "  white-space: pre-wrap;\n",
       "}\n",
       "</style>\n",
       "<small>shape: (207_909, 3)</small><table border=\"1\" class=\"dataframe\"><thead><tr><th>text</th><th>labels</th><th>language</th></tr><tr><td>str</td><td>str</td><td>str</td></tr></thead><tbody><tr><td>&quot;انهمخزي!&quot;</td><td>&quot;1, 4, 7&quot;</td><td>&quot;ar&quot;</td></tr><tr><td>&quot;انهالأفضل!&quot;</td><td>&quot;8&quot;</td><td>&quot;ar&quot;</td></tr><tr><td>&quot;- لا تكن مؤدب …</td><td>&quot;1, 3, 8&quot;</td><td>&quot;ar&quot;</td></tr><tr><td>&quot;في حال رفض الس…</td><td>&quot;1&quot;</td><td>&quot;ar&quot;</td></tr><tr><td>&quot;لكن ماذا عن ال…</td><td>&quot;2, 7&quot;</td><td>&quot;ar&quot;</td></tr><tr><td>&hellip;</td><td>&hellip;</td><td>&hellip;</td></tr><tr><td>&quot;美國人民 我聽到了你們的聲音…</td><td>&quot;8&quot;</td><td>&quot;zh&quot;</td></tr><tr><td>&quot;她很擅長她的工作&quot;</td><td>&quot;1, 3&quot;</td><td>&quot;zh&quot;</td></tr><tr><td>&quot;湯姆...&quot;</td><td>&quot;8&quot;</td><td>&quot;zh&quot;</td></tr><tr><td>&quot;如果他們要和我見面怎么辦&quot;</td><td>&quot;2, 5&quot;</td><td>&quot;zh&quot;</td></tr><tr><td>&quot;我沒有朋友&quot;</td><td>&quot;2, 5&quot;</td><td>&quot;zh&quot;</td></tr></tbody></table></div>"
      ],
      "text/plain": [
       "shape: (207_909, 3)\n",
       "┌───────────────────────────────────┬─────────┬──────────┐\n",
       "│ text                              ┆ labels  ┆ language │\n",
       "│ ---                               ┆ ---     ┆ ---      │\n",
       "│ str                               ┆ str     ┆ str      │\n",
       "╞═══════════════════════════════════╪═════════╪══════════╡\n",
       "│ انهمخزي!                          ┆ 1, 4, 7 ┆ ar       │\n",
       "│ انهالأفضل!                        ┆ 8       ┆ ar       │\n",
       "│ - لا تكن مؤدب !                   ┆ 1, 3, 8 ┆ ar       │\n",
       "│ في حال رفض السيدة \"تادمنستر\" اقا… ┆ 1       ┆ ar       │\n",
       "│ لكن ماذا عن الدوقة ؟              ┆ 2, 7    ┆ ar       │\n",
       "│ …                                 ┆ …       ┆ …        │\n",
       "│ 美國人民 我聽到了你們的聲音       ┆ 8       ┆ zh       │\n",
       "│ da/2017/6411842/6…                ┆         ┆          │\n",
       "│ 她很擅長她的工作                  ┆ 1, 3    ┆ zh       │\n",
       "│ 湯姆...                           ┆ 8       ┆ zh       │\n",
       "│ 如果他們要和我見面怎么辦          ┆ 2, 5    ┆ zh       │\n",
       "│ 我沒有朋友                        ┆ 2, 5    ┆ zh       │\n",
       "└───────────────────────────────────┴─────────┴──────────┘"
      ]
     },
     "execution_count": 13,
     "metadata": {},
     "output_type": "execute_result"
    }
   ],
   "source": [
    "df[\"labels\"].unique()\n",
    "df"
   ]
  },
  {
   "cell_type": "code",
   "execution_count": 14,
   "id": "f906bd32-510f-41f3-9572-ec59ed5b1227",
   "metadata": {},
   "outputs": [],
   "source": [
    "# exclude languages not present in parlamint 4.0 dataset\n",
    "# language codes by ISO 639 in parlamint\n",
    "lang_codes = [\"bs\",\"bg\",\"hr\",\"cs\",\"da\",\"nl\",\"en\",\"et\",\"fi\",\"fr\",\"de\",\n",
    "                 \"hu\",\"is\",\"it\",\"lv\",\"el\",\"no\",\"pl\",\"pt\",\"ru\",\"sr\",\"sl\",\n",
    "                 \"es\",\"sv\",\"tr\",\"uk\"]\n",
    "\n",
    "# exclude langs\n",
    "df = df.filter(pl.col(\"language\").is_in(lang_codes))"
   ]
  },
  {
   "cell_type": "code",
   "execution_count": 15,
   "id": "d66f7aad-baab-4ca6-8eda-edee2f5d744c",
   "metadata": {},
   "outputs": [],
   "source": [
    "# convert string labels to list and recode from 0 to n-1\n",
    "df = df.with_columns(pl.col(\"labels\").map_elements(lambda s: [int(x)-1 for x in s.split(\",\") if x.isdigit]))\n"
   ]
  },
  {
   "cell_type": "code",
   "execution_count": 16,
   "id": "d09e4f9c-f2aa-44eb-9af1-8e38a58ba8c9",
   "metadata": {},
   "outputs": [
    {
     "data": {
      "text/html": [
       "<div><style>\n",
       ".dataframe > thead > tr,\n",
       ".dataframe > tbody > tr {\n",
       "  text-align: right;\n",
       "  white-space: pre-wrap;\n",
       "}\n",
       "</style>\n",
       "<small>shape: (170_917, 3)</small><table border=\"1\" class=\"dataframe\"><thead><tr><th>text</th><th>labels</th><th>language</th></tr><tr><td>str</td><td>list[i64]</td><td>str</td></tr></thead><tbody><tr><td>&quot;Няма работа за…</td><td>[0, 0, … 0]</td><td>&quot;bg&quot;</td></tr><tr><td>&quot;Ако нямаше наг…</td><td>[0, 0, … 0]</td><td>&quot;bg&quot;</td></tr><tr><td>&quot;Защо не пием з…</td><td>[0, 1, … 0]</td><td>&quot;bg&quot;</td></tr><tr><td>&quot;Не става.&quot;</td><td>[0, 0, … 0]</td><td>&quot;bg&quot;</td></tr><tr><td>&quot;А и са безполе…</td><td>[0, 0, … 0]</td><td>&quot;bg&quot;</td></tr><tr><td>&hellip;</td><td>&hellip;</td><td>&hellip;</td></tr><tr><td>&quot;Dur, Onu tanıy…</td><td>[0, 0, … 0]</td><td>&quot;tr&quot;</td></tr><tr><td>&quot;Vakıf fonu Jan…</td><td>[0, 0, … 0]</td><td>&quot;tr&quot;</td></tr><tr><td>&quot;Bilmiyorum ama…</td><td>[0, 0, … 1]</td><td>&quot;tr&quot;</td></tr><tr><td>&quot;Son yirmi yıld…</td><td>[0, 0, … 0]</td><td>&quot;tr&quot;</td></tr><tr><td>&quot;Tutuklusunuz.&quot;</td><td>[1, 0, … 0]</td><td>&quot;tr&quot;</td></tr></tbody></table></div>"
      ],
      "text/plain": [
       "shape: (170_917, 3)\n",
       "┌───────────────────────────────────┬─────────────┬──────────┐\n",
       "│ text                              ┆ labels      ┆ language │\n",
       "│ ---                               ┆ ---         ┆ ---      │\n",
       "│ str                               ┆ list[i64]   ┆ str      │\n",
       "╞═══════════════════════════════════╪═════════════╪══════════╡\n",
       "│ Няма работа за нас.               ┆ [0, 0, … 0] ┆ bg       │\n",
       "│ Ако нямаше награда за главите ни… ┆ [0, 0, … 0] ┆ bg       │\n",
       "│ Защо не пием за добрите стари вр… ┆ [0, 1, … 0] ┆ bg       │\n",
       "│ Не става.                         ┆ [0, 0, … 0] ┆ bg       │\n",
       "│ А и са безполезни, Кид.           ┆ [0, 0, … 0] ┆ bg       │\n",
       "│ …                                 ┆ …           ┆ …        │\n",
       "│ Dur, Onu tanıyorum.               ┆ [0, 0, … 0] ┆ tr       │\n",
       "│ Vakıf fonu Jane' in ilk sırada o… ┆ [0, 0, … 0] ┆ tr       │\n",
       "│ Bilmiyorum ama şimdilik ondan ku… ┆ [0, 0, … 1] ┆ tr       │\n",
       "│ Son yirmi yıldır hayatta şansım … ┆ [0, 0, … 0] ┆ tr       │\n",
       "│ Tutuklusunuz.                     ┆ [1, 0, … 0] ┆ tr       │\n",
       "└───────────────────────────────────┴─────────────┴──────────┘"
      ]
     },
     "execution_count": 16,
     "metadata": {},
     "output_type": "execute_result"
    }
   ],
   "source": [
    "def one_hot(lst):\n",
    "    vec = [0]*8\n",
    "    for cls in lst:\n",
    "        vec[cls]=1\n",
    "    return vec\n",
    "    \n",
    "df = df.with_columns(pl.col(\"labels\").map_elements(lambda l: one_hot(l)))\n",
    "df"
   ]
  },
  {
   "cell_type": "code",
   "execution_count": 17,
   "id": "cf34087b-dc6e-49a9-9735-3bf087b21389",
   "metadata": {},
   "outputs": [
    {
     "name": "stdout",
     "output_type": "stream",
     "text": [
      "153 67\n"
     ]
    }
   ],
   "source": [
    "# exclude labels that are under 100 times occurrence\n",
    "exclude = df.group_by(pl.col(\"labels\")).len().filter(pl.col(\"len\")<99)[\"labels\"].to_list()\n",
    "\n",
    "\n",
    "include = df.group_by(pl.col(\"labels\")).len().filter(pl.col(\"len\")>99)[\"labels\"].to_list()\n",
    "print(len(exclude),len(include))"
   ]
  },
  {
   "cell_type": "code",
   "execution_count": 18,
   "id": "9e1a4ae4-12c6-4bcc-89fc-0f76056d9e58",
   "metadata": {},
   "outputs": [],
   "source": [
    "# iterate through rows and construct filter list \n",
    "filter_lst = [] \n",
    "for r in df.iter_rows():\n",
    "    if r[-2] in include:\n",
    "        filter_lst.append(True)\n",
    "    else:\n",
    "        filter_lst.append(False)"
   ]
  },
  {
   "cell_type": "code",
   "execution_count": 19,
   "id": "720711aa-0b15-47a5-95ce-05361c047f1b",
   "metadata": {},
   "outputs": [],
   "source": [
    "# add list as series and filter out values \n",
    "df = df.with_columns(flt=pl.Series(filter_lst)).filter(pl.col(\"flt\")==True)"
   ]
  },
  {
   "cell_type": "code",
   "execution_count": 32,
   "id": "61e1a7cf-39d1-4975-8f9e-0886063a2f12",
   "metadata": {},
   "outputs": [],
   "source": [
    "# drop nulls (one occurrence of null in the data)\n",
    "df = df.drop_nulls()"
   ]
  },
  {
   "cell_type": "code",
   "execution_count": 33,
   "id": "d7dc4dac-1e62-4872-bc36-1fdc72c38517",
   "metadata": {},
   "outputs": [
    {
     "name": "stdout",
     "output_type": "stream",
     "text": [
      "151370 16818\n"
     ]
    }
   ],
   "source": [
    "# create train-test split\n",
    "\n",
    "# shuffle\n",
    "df = df.sample(fraction=1, shuffle=True, seed=42)\n",
    "\n",
    "test_size = int(len(df)*0.1)\n",
    "\n",
    "test, train = df.head(test_size), df.tail(-test_size)\n",
    "\n",
    "test.write_parquet(\"test.parquet\")\n",
    "train.write_parquet(\"train.parquet\")\n",
    "\n",
    "print(len(train),len(test))"
   ]
  },
  {
   "cell_type": "markdown",
   "id": "e2e26e68",
   "metadata": {},
   "source": [
    "## Labels2id for model"
   ]
  },
  {
   "cell_type": "code",
   "execution_count": null,
   "id": "98fb8414",
   "metadata": {},
   "outputs": [],
   "source": [
    "id2labels = {'0':\"anger\",\n",
    "            '1':\"anticipation\",\n",
    "              '2':\"disgust\",\n",
    "              '3':\"fear\",\n",
    "              '4':\"joy\",\n",
    "              '5':\"sadness\",\n",
    "              '6':\"surprise\",\n",
    "              '7':\"trust\",\n",
    "             }\n",
    "\n",
    "# change order key value to recode through retrieval\n",
    "labels2id = {v:k for k,v in labels_xed.items()}"
   ]
  }
 ],
 "metadata": {
  "kernelspec": {
   "display_name": "Python 3 (ipykernel)",
   "language": "python",
   "name": "python3"
  },
  "language_info": {
   "codemirror_mode": {
    "name": "ipython",
    "version": 3
   },
   "file_extension": ".py",
   "mimetype": "text/x-python",
   "name": "python",
   "nbconvert_exporter": "python",
   "pygments_lexer": "ipython3",
   "version": "3.11.8"
  }
 },
 "nbformat": 4,
 "nbformat_minor": 5
}
