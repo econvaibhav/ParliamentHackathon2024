{
 "cells": [
  {
   "cell_type": "markdown",
   "id": "b88c5efa-db90-43ca-8377-ccc50f8ec2e5",
   "metadata": {},
   "source": [
    "# XED data"
   ]
  },
  {
   "cell_type": "code",
   "execution_count": 41,
   "id": "3172a870-acc4-432b-a44b-1a824a965d78",
   "metadata": {},
   "outputs": [],
   "source": [
    "import polars as pl\n",
    "import os \n",
    "# get all files per country\n",
    "path = \"emotion-data/XED\"\n",
    "files = os.listdir(path)"
   ]
  },
  {
   "cell_type": "code",
   "execution_count": 42,
   "id": "84a0369b-56eb-4c0e-abeb-7e34ccc4f80f",
   "metadata": {},
   "outputs": [],
   "source": [
    "df = pl.DataFrame()\n",
    "schema = {\"text\":pl.String,\n",
    "          \"labels\":pl.String,\n",
    "         \"language\":pl.String}\n",
    "for f in files:\n",
    "    tmp = pl.read_csv(path+\"/\"+f, separator=\"\\t\",schema=schema, ignore_errors=True)\n",
    "    lang = f.split(\"-\")[0]\n",
    "    tmp = tmp.with_columns(language=pl.Series([lang]*len(tmp)))\n",
    "    if tmp.is_empty():\n",
    "        df=tmp\n",
    "    else:\n",
    "        df=pl.concat([df,tmp],how=\"vertical\")"
   ]
  },
  {
   "cell_type": "code",
   "execution_count": 43,
   "id": "f17daabb-c6a1-4a4f-a94d-ab2e4e61db78",
   "metadata": {},
   "outputs": [
    {
     "ename": "AttributeError",
     "evalue": "'DataFrame' object has no attribute 'info'",
     "output_type": "error",
     "traceback": [
      "\u001b[0;31m---------------------------------------------------------------------------\u001b[0m",
      "\u001b[0;31mAttributeError\u001b[0m                            Traceback (most recent call last)",
      "Cell \u001b[0;32mIn[43], line 1\u001b[0m\n\u001b[0;32m----> 1\u001b[0m \u001b[43mdf\u001b[49m\u001b[38;5;241;43m.\u001b[39;49m\u001b[43minfo\u001b[49m()\n",
      "\u001b[0;31mAttributeError\u001b[0m: 'DataFrame' object has no attribute 'info'"
     ]
    }
   ],
   "source": [
    "df.info()"
   ]
  },
  {
   "cell_type": "code",
   "execution_count": 25,
   "id": "6240f776-457f-400c-af56-192e791e77b8",
   "metadata": {},
   "outputs": [
    {
     "data": {
      "text/html": [
       "<div><style>\n",
       ".dataframe > thead > tr,\n",
       ".dataframe > tbody > tr {\n",
       "  text-align: right;\n",
       "  white-space: pre-wrap;\n",
       "}\n",
       "</style>\n",
       "<small>shape: (207_909, 3)</small><table border=\"1\" class=\"dataframe\"><thead><tr><th>text</th><th>labels</th><th>language</th></tr><tr><td>str</td><td>str</td><td>str</td></tr></thead><tbody><tr><td>&quot;Da nam nisu ucjenjene glave, z…</td><td>&quot;4&quot;</td><td>&quot;hr&quot;</td></tr><tr><td>&quot;Zašto ne popijemo piće za dobr…</td><td>&quot;2, 5&quot;</td><td>&quot;hr&quot;</td></tr><tr><td>&quot;Neće moći.&quot;</td><td>&quot;3&quot;</td><td>&quot;hr&quot;</td></tr><tr><td>&quot;Ovdje više tako ne ide Kid.&quot;</td><td>&quot;6&quot;</td><td>&quot;hr&quot;</td></tr><tr><td>&quot;Nikom nije stalo.&quot;</td><td>&quot;1, 3&quot;</td><td>&quot;hr&quot;</td></tr><tr><td>&hellip;</td><td>&hellip;</td><td>&hellip;</td></tr><tr><td>&quot;Ez da ezer gertatzen, David.&quot;</td><td>&quot;5, 6, 8&quot;</td><td>&quot;eu&quot;</td></tr><tr><td>&quot;Pentsatuko zenuela zin egin du…</td><td>&quot;1, 6&quot;</td><td>&quot;eu&quot;</td></tr><tr><td>&quot;Tonia!&quot;</td><td>&quot;5, 7&quot;</td><td>&quot;eu&quot;</td></tr><tr><td>&quot;Balalaika jotzen duzu? Ea jotz…</td><td>&quot;2&quot;</td><td>&quot;eu&quot;</td></tr><tr><td>&quot;Nork irakatsi zizun? Inork ez.&quot;</td><td>&quot;8&quot;</td><td>&quot;eu&quot;</td></tr></tbody></table></div>"
      ],
      "text/plain": [
       "shape: (207_909, 3)\n",
       "┌─────────────────────────────────┬─────────┬──────────┐\n",
       "│ text                            ┆ labels  ┆ language │\n",
       "│ ---                             ┆ ---     ┆ ---      │\n",
       "│ str                             ┆ str     ┆ str      │\n",
       "╞═════════════════════════════════╪═════════╪══════════╡\n",
       "│ Da nam nisu ucjenjene glave, z… ┆ 4       ┆ hr       │\n",
       "│ Zašto ne popijemo piće za dobr… ┆ 2, 5    ┆ hr       │\n",
       "│ Neće moći.                      ┆ 3       ┆ hr       │\n",
       "│ Ovdje više tako ne ide Kid.     ┆ 6       ┆ hr       │\n",
       "│ Nikom nije stalo.               ┆ 1, 3    ┆ hr       │\n",
       "│ …                               ┆ …       ┆ …        │\n",
       "│ Ez da ezer gertatzen, David.    ┆ 5, 6, 8 ┆ eu       │\n",
       "│ Pentsatuko zenuela zin egin du… ┆ 1, 6    ┆ eu       │\n",
       "│ Tonia!                          ┆ 5, 7    ┆ eu       │\n",
       "│ Balalaika jotzen duzu? Ea jotz… ┆ 2       ┆ eu       │\n",
       "│ Nork irakatsi zizun? Inork ez.  ┆ 8       ┆ eu       │\n",
       "└─────────────────────────────────┴─────────┴──────────┘"
      ]
     },
     "execution_count": 25,
     "metadata": {},
     "output_type": "execute_result"
    }
   ],
   "source": [
    "df[\"labels\"].unique()\n",
    "df"
   ]
  },
  {
   "cell_type": "code",
   "execution_count": 26,
   "id": "f906bd32-510f-41f3-9572-ec59ed5b1227",
   "metadata": {},
   "outputs": [],
   "source": [
    "# exclude languages not present in parlamint 4.0 dataset\n",
    "# language codes by ISO 639 in parlamint\n",
    "lang_codes = [\"bs\",\"bg\",\"hr\",\"cs\",\"da\",\"nl\",\"en\",\"et\",\"fi\",\"fr\",\"de\",\n",
    "                 \"hu\",\"is\",\"it\",\"lv\",\"el\",\"no\",\"pl\",\"pt\",\"ru\",\"sr\",\"sl\",\n",
    "                 \"es\",\"sv\",\"tr\",\"uk\"]\n",
    "\n",
    "# exclude langs\n",
    "df = df.filter(pl.col(\"language\").is_in(lang_codes))"
   ]
  },
  {
   "cell_type": "code",
   "execution_count": 50,
   "id": "98de881c",
   "metadata": {},
   "outputs": [],
   "source": [
    "import pandas as pd\n",
    "\n",
    "df = pd.DataFrame(df)\n",
    "\n",
    "df.columns = ['text', 'labels', 'lang']"
   ]
  },
  {
   "cell_type": "code",
   "execution_count": 51,
   "id": "70947685-5eb4-4d0e-8d9e-0e81218270f9",
   "metadata": {},
   "outputs": [],
   "source": [
    "# convert string labels to list and recode from 0 to n-1\n",
    "# df = df.with_columns(pl.col(\"labels\").map_elements(lambda s: [[int(x)-1] for x in s.split(\",\") if x.isdigit]))\n",
    "import numpy as np\n",
    "\n",
    "def to_array(string):\n",
    "    string = string.replace(\" \", \"\")\n",
    "    number_list = string.split(',')\n",
    "    number_list = [int(num) for num in number_list]\n",
    "    number_array = np.array(number_list)\n",
    "    \n",
    "    return number_array\n",
    "\n",
    "df.labels = df['labels'].apply(to_array)\n"
   ]
  },
  {
   "cell_type": "code",
   "execution_count": 54,
   "id": "c8ae5bfa-6687-4c05-bf76-e511e0c83b8e",
   "metadata": {},
   "outputs": [],
   "source": [
    "from sklearn.preprocessing import MultiLabelBinarizer\n",
    "\n",
    "\n",
    "def one_hot_encoding(ds):\n",
    "    mlb = MultiLabelBinarizer()\n",
    "    ds = ds.join(pd.DataFrame(mlb.fit_transform(ds.pop('labels')),\n",
    "                          columns=mlb.classes_,\n",
    "                          index=ds.index))\n",
    "    \n",
    "    return ds\n",
    "\n",
    "df = one_hot_encoding(df)\n",
    "\n"
   ]
  },
  {
   "cell_type": "code",
   "execution_count": 57,
   "id": "bfdf726a",
   "metadata": {},
   "outputs": [],
   "source": [
    "df = pl.DataFrame(df)"
   ]
  },
  {
   "cell_type": "code",
   "execution_count": 59,
   "id": "7ba52cab",
   "metadata": {},
   "outputs": [
    {
     "data": {
      "text/html": [
       "<div><style>\n",
       ".dataframe > thead > tr,\n",
       ".dataframe > tbody > tr {\n",
       "  text-align: right;\n",
       "  white-space: pre-wrap;\n",
       "}\n",
       "</style>\n",
       "<small>shape: (207_909, 10)</small><table border=\"1\" class=\"dataframe\"><thead><tr><th>text</th><th>lang</th><th>1</th><th>2</th><th>3</th><th>4</th><th>5</th><th>6</th><th>7</th><th>8</th></tr><tr><td>str</td><td>str</td><td>i64</td><td>i64</td><td>i64</td><td>i64</td><td>i64</td><td>i64</td><td>i64</td><td>i64</td></tr></thead><tbody><tr><td>&quot;Da nam nisu ucjenjene glave, z…</td><td>&quot;hr&quot;</td><td>0</td><td>0</td><td>0</td><td>1</td><td>0</td><td>0</td><td>0</td><td>0</td></tr><tr><td>&quot;Zašto ne popijemo piće za dobr…</td><td>&quot;hr&quot;</td><td>0</td><td>1</td><td>0</td><td>0</td><td>1</td><td>0</td><td>0</td><td>0</td></tr><tr><td>&quot;Neće moći.&quot;</td><td>&quot;hr&quot;</td><td>0</td><td>0</td><td>1</td><td>0</td><td>0</td><td>0</td><td>0</td><td>0</td></tr><tr><td>&quot;Ovdje više tako ne ide Kid.&quot;</td><td>&quot;hr&quot;</td><td>0</td><td>0</td><td>0</td><td>0</td><td>0</td><td>1</td><td>0</td><td>0</td></tr><tr><td>&quot;Nikom nije stalo.&quot;</td><td>&quot;hr&quot;</td><td>1</td><td>0</td><td>1</td><td>0</td><td>0</td><td>0</td><td>0</td><td>0</td></tr><tr><td>&hellip;</td><td>&hellip;</td><td>&hellip;</td><td>&hellip;</td><td>&hellip;</td><td>&hellip;</td><td>&hellip;</td><td>&hellip;</td><td>&hellip;</td><td>&hellip;</td></tr><tr><td>&quot;Ez da ezer gertatzen, David.&quot;</td><td>&quot;eu&quot;</td><td>0</td><td>0</td><td>0</td><td>0</td><td>1</td><td>1</td><td>0</td><td>1</td></tr><tr><td>&quot;Pentsatuko zenuela zin egin du…</td><td>&quot;eu&quot;</td><td>1</td><td>0</td><td>0</td><td>0</td><td>0</td><td>1</td><td>0</td><td>0</td></tr><tr><td>&quot;Tonia!&quot;</td><td>&quot;eu&quot;</td><td>0</td><td>0</td><td>0</td><td>0</td><td>1</td><td>0</td><td>1</td><td>0</td></tr><tr><td>&quot;Balalaika jotzen duzu? Ea jotz…</td><td>&quot;eu&quot;</td><td>0</td><td>1</td><td>0</td><td>0</td><td>0</td><td>0</td><td>0</td><td>0</td></tr><tr><td>&quot;Nork irakatsi zizun? Inork ez.&quot;</td><td>&quot;eu&quot;</td><td>0</td><td>0</td><td>0</td><td>0</td><td>0</td><td>0</td><td>0</td><td>1</td></tr></tbody></table></div>"
      ],
      "text/plain": [
       "shape: (207_909, 10)\n",
       "┌─────────────────────────────────┬──────┬─────┬─────┬───┬─────┬─────┬─────┬─────┐\n",
       "│ text                            ┆ lang ┆ 1   ┆ 2   ┆ … ┆ 5   ┆ 6   ┆ 7   ┆ 8   │\n",
       "│ ---                             ┆ ---  ┆ --- ┆ --- ┆   ┆ --- ┆ --- ┆ --- ┆ --- │\n",
       "│ str                             ┆ str  ┆ i64 ┆ i64 ┆   ┆ i64 ┆ i64 ┆ i64 ┆ i64 │\n",
       "╞═════════════════════════════════╪══════╪═════╪═════╪═══╪═════╪═════╪═════╪═════╡\n",
       "│ Da nam nisu ucjenjene glave, z… ┆ hr   ┆ 0   ┆ 0   ┆ … ┆ 0   ┆ 0   ┆ 0   ┆ 0   │\n",
       "│ Zašto ne popijemo piće za dobr… ┆ hr   ┆ 0   ┆ 1   ┆ … ┆ 1   ┆ 0   ┆ 0   ┆ 0   │\n",
       "│ Neće moći.                      ┆ hr   ┆ 0   ┆ 0   ┆ … ┆ 0   ┆ 0   ┆ 0   ┆ 0   │\n",
       "│ Ovdje više tako ne ide Kid.     ┆ hr   ┆ 0   ┆ 0   ┆ … ┆ 0   ┆ 1   ┆ 0   ┆ 0   │\n",
       "│ Nikom nije stalo.               ┆ hr   ┆ 1   ┆ 0   ┆ … ┆ 0   ┆ 0   ┆ 0   ┆ 0   │\n",
       "│ …                               ┆ …    ┆ …   ┆ …   ┆ … ┆ …   ┆ …   ┆ …   ┆ …   │\n",
       "│ Ez da ezer gertatzen, David.    ┆ eu   ┆ 0   ┆ 0   ┆ … ┆ 1   ┆ 1   ┆ 0   ┆ 1   │\n",
       "│ Pentsatuko zenuela zin egin du… ┆ eu   ┆ 1   ┆ 0   ┆ … ┆ 0   ┆ 1   ┆ 0   ┆ 0   │\n",
       "│ Tonia!                          ┆ eu   ┆ 0   ┆ 0   ┆ … ┆ 1   ┆ 0   ┆ 1   ┆ 0   │\n",
       "│ Balalaika jotzen duzu? Ea jotz… ┆ eu   ┆ 0   ┆ 1   ┆ … ┆ 0   ┆ 0   ┆ 0   ┆ 0   │\n",
       "│ Nork irakatsi zizun? Inork ez.  ┆ eu   ┆ 0   ┆ 0   ┆ … ┆ 0   ┆ 0   ┆ 0   ┆ 1   │\n",
       "└─────────────────────────────────┴──────┴─────┴─────┴───┴─────┴─────┴─────┴─────┘"
      ]
     },
     "execution_count": 59,
     "metadata": {},
     "output_type": "execute_result"
    }
   ],
   "source": []
  },
  {
   "cell_type": "code",
   "execution_count": 60,
   "id": "2b3e625d-c325-406a-aaa6-938fb2945e44",
   "metadata": {},
   "outputs": [],
   "source": [
    "# save full dataset\n",
    "df.write_parquet(\"data.parquet\")"
   ]
  },
  {
   "cell_type": "code",
   "execution_count": 73,
   "id": "01b541e3-c1f7-4658-b4bf-b395524ac64e",
   "metadata": {},
   "outputs": [
    {
     "name": "stderr",
     "output_type": "stream",
     "text": [
      "/tmp/ipykernel_26079/2385366718.py:1: MapWithoutReturnDtypeWarning: Calling `map_elements` without specifying `return_dtype` can lead to unpredictable results. Specify `return_dtype` to silence this warning.\n",
      "  df = df.with_columns(pl.col('text').map_elements(lambda x: len(x)).alias('len_text'))\n"
     ]
    },
    {
     "data": {
      "text/plain": [
       "36.490692998826404"
      ]
     },
     "execution_count": 73,
     "metadata": {},
     "output_type": "execute_result"
    }
   ],
   "source": [
    "df = df.with_columns(pl.col('text').map_elements(lambda x: len(x)).alias('len_text'))\n",
    "# Compute the mean length\n",
    "#mean_length = df.select(pl.col('StringLength').mean())\n",
    "df['len_text'].mean()"
   ]
  },
  {
   "cell_type": "code",
   "execution_count": null,
   "id": "178f5e2a",
   "metadata": {},
   "outputs": [],
   "source": []
  }
 ],
 "metadata": {
  "kernelspec": {
   "display_name": "Python 3 (ipykernel)",
   "language": "python",
   "name": "python3"
  },
  "language_info": {
   "codemirror_mode": {
    "name": "ipython",
    "version": 3
   },
   "file_extension": ".py",
   "mimetype": "text/x-python",
   "name": "python",
   "nbconvert_exporter": "python",
   "pygments_lexer": "ipython3",
   "version": "3.10.10"
  }
 },
 "nbformat": 4,
 "nbformat_minor": 5
}
