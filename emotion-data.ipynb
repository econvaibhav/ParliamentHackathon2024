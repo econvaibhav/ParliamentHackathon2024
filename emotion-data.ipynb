{
 "cells": [
  {
   "cell_type": "markdown",
   "id": "b88c5efa-db90-43ca-8377-ccc50f8ec2e5",
   "metadata": {},
   "source": [
    "# XED data"
   ]
  },
  {
   "cell_type": "code",
   "execution_count": 1,
   "id": "3172a870-acc4-432b-a44b-1a824a965d78",
   "metadata": {},
   "outputs": [],
   "source": [
    "import polars as pl\n",
    "import os \n",
    "# get all files per country\n",
    "path = \"emotion-data/XED\"\n",
    "files = os.listdir(path)"
   ]
  },
  {
   "cell_type": "code",
   "execution_count": 68,
   "id": "84a0369b-56eb-4c0e-abeb-7e34ccc4f80f",
   "metadata": {},
   "outputs": [],
   "source": [
    "df = pl.DataFrame()\n",
    "schema = {\"text\":pl.String,\n",
    "          \"labels\":pl.String,\n",
    "         \"language\":pl.String}\n",
    "for f in files:\n",
    "    tmp = pl.read_csv(path+\"/\"+f, separator=\"\\t\",schema=schema, ignore_errors=True)\n",
    "    lang = f.split(\"-\")[0]\n",
    "    tmp = tmp.with_columns(language=pl.Series([lang]*len(tmp)))\n",
    "    if tmp.is_empty():\n",
    "        df=tmp\n",
    "    else:\n",
    "        df=pl.concat([df,tmp],how=\"vertical\")"
   ]
  },
  {
   "cell_type": "code",
   "execution_count": 3,
   "id": "6240f776-457f-400c-af56-192e791e77b8",
   "metadata": {},
   "outputs": [
    {
     "data": {
      "text/html": [
       "<div><style>\n",
       ".dataframe > thead > tr,\n",
       ".dataframe > tbody > tr {\n",
       "  text-align: right;\n",
       "  white-space: pre-wrap;\n",
       "}\n",
       "</style>\n",
       "<small>shape: (207_909, 3)</small><table border=\"1\" class=\"dataframe\"><thead><tr><th>text</th><th>labels</th><th>language</th></tr><tr><td>str</td><td>str</td><td>str</td></tr></thead><tbody><tr><td>&quot;انهمخزي!&quot;</td><td>&quot;1, 4, 7&quot;</td><td>&quot;ar&quot;</td></tr><tr><td>&quot;انهالأفضل!&quot;</td><td>&quot;8&quot;</td><td>&quot;ar&quot;</td></tr><tr><td>&quot;- لا تكن مؤدب …</td><td>&quot;1, 3, 8&quot;</td><td>&quot;ar&quot;</td></tr><tr><td>&quot;في حال رفض الس…</td><td>&quot;1&quot;</td><td>&quot;ar&quot;</td></tr><tr><td>&quot;لكن ماذا عن ال…</td><td>&quot;2, 7&quot;</td><td>&quot;ar&quot;</td></tr><tr><td>&hellip;</td><td>&hellip;</td><td>&hellip;</td></tr><tr><td>&quot;美國人民 我聽到了你們的聲音…</td><td>&quot;8&quot;</td><td>&quot;zh&quot;</td></tr><tr><td>&quot;她很擅長她的工作&quot;</td><td>&quot;1, 3&quot;</td><td>&quot;zh&quot;</td></tr><tr><td>&quot;湯姆...&quot;</td><td>&quot;8&quot;</td><td>&quot;zh&quot;</td></tr><tr><td>&quot;如果他們要和我見面怎么辦&quot;</td><td>&quot;2, 5&quot;</td><td>&quot;zh&quot;</td></tr><tr><td>&quot;我沒有朋友&quot;</td><td>&quot;2, 5&quot;</td><td>&quot;zh&quot;</td></tr></tbody></table></div>"
      ],
      "text/plain": [
       "shape: (207_909, 3)\n",
       "┌───────────────────────────────────┬─────────┬──────────┐\n",
       "│ text                              ┆ labels  ┆ language │\n",
       "│ ---                               ┆ ---     ┆ ---      │\n",
       "│ str                               ┆ str     ┆ str      │\n",
       "╞═══════════════════════════════════╪═════════╪══════════╡\n",
       "│ انهمخزي!                          ┆ 1, 4, 7 ┆ ar       │\n",
       "│ انهالأفضل!                        ┆ 8       ┆ ar       │\n",
       "│ - لا تكن مؤدب !                   ┆ 1, 3, 8 ┆ ar       │\n",
       "│ في حال رفض السيدة \"تادمنستر\" اقا… ┆ 1       ┆ ar       │\n",
       "│ لكن ماذا عن الدوقة ؟              ┆ 2, 7    ┆ ar       │\n",
       "│ …                                 ┆ …       ┆ …        │\n",
       "│ 美國人民 我聽到了你們的聲音       ┆ 8       ┆ zh       │\n",
       "│ da/2017/6411842/6…                ┆         ┆          │\n",
       "│ 她很擅長她的工作                  ┆ 1, 3    ┆ zh       │\n",
       "│ 湯姆...                           ┆ 8       ┆ zh       │\n",
       "│ 如果他們要和我見面怎么辦          ┆ 2, 5    ┆ zh       │\n",
       "│ 我沒有朋友                        ┆ 2, 5    ┆ zh       │\n",
       "└───────────────────────────────────┴─────────┴──────────┘"
      ]
     },
     "execution_count": 3,
     "metadata": {},
     "output_type": "execute_result"
    }
   ],
   "source": [
    "df[\"labels\"].unique()\n",
    "df"
   ]
  },
  {
   "cell_type": "code",
   "execution_count": 69,
   "id": "f906bd32-510f-41f3-9572-ec59ed5b1227",
   "metadata": {},
   "outputs": [],
   "source": [
    "# exclude languages not present in parlamint 4.0 dataset\n",
    "# language codes by ISO 639 in parlamint\n",
    "lang_codes = [\"bs\",\"bg\",\"hr\",\"cs\",\"da\",\"nl\",\"en\",\"et\",\"fi\",\"fr\",\"de\",\n",
    "                 \"hu\",\"is\",\"it\",\"lv\",\"el\",\"no\",\"pl\",\"pt\",\"ru\",\"sr\",\"sl\",\n",
    "                 \"es\",\"sv\",\"tr\",\"uk\"]\n",
    "\n",
    "# exclude langs\n",
    "df = df.filter(pl.col(\"language\").is_in(lang_codes))"
   ]
  },
  {
   "cell_type": "code",
   "execution_count": 72,
   "id": "d66f7aad-baab-4ca6-8eda-edee2f5d744c",
   "metadata": {},
   "outputs": [
    {
     "ename": "ComputeError",
     "evalue": "AttributeError: 'Series' object has no attribute 'split'",
     "output_type": "error",
     "traceback": [
      "\u001b[0;31m---------------------------------------------------------------------------\u001b[0m",
      "\u001b[0;31mComputeError\u001b[0m                              Traceback (most recent call last)",
      "Cell \u001b[0;32mIn[72], line 2\u001b[0m\n\u001b[1;32m      1\u001b[0m \u001b[38;5;66;03m# convert string labels to list and recode from 0 to n-1\u001b[39;00m\n\u001b[0;32m----> 2\u001b[0m df \u001b[38;5;241m=\u001b[39m \u001b[43mdf\u001b[49m\u001b[38;5;241;43m.\u001b[39;49m\u001b[43mwith_columns\u001b[49m\u001b[43m(\u001b[49m\u001b[43mpl\u001b[49m\u001b[38;5;241;43m.\u001b[39;49m\u001b[43mcol\u001b[49m\u001b[43m(\u001b[49m\u001b[38;5;124;43m\"\u001b[39;49m\u001b[38;5;124;43mlabels\u001b[39;49m\u001b[38;5;124;43m\"\u001b[39;49m\u001b[43m)\u001b[49m\u001b[38;5;241;43m.\u001b[39;49m\u001b[43mmap_elements\u001b[49m\u001b[43m(\u001b[49m\u001b[38;5;28;43;01mlambda\u001b[39;49;00m\u001b[43m \u001b[49m\u001b[43ms\u001b[49m\u001b[43m:\u001b[49m\u001b[43m \u001b[49m\u001b[43m[\u001b[49m\u001b[38;5;28;43mint\u001b[39;49m\u001b[43m(\u001b[49m\u001b[43mx\u001b[49m\u001b[43m)\u001b[49m\u001b[38;5;241;43m-\u001b[39;49m\u001b[38;5;241;43m1\u001b[39;49m\u001b[43m \u001b[49m\u001b[38;5;28;43;01mfor\u001b[39;49;00m\u001b[43m \u001b[49m\u001b[43mx\u001b[49m\u001b[43m \u001b[49m\u001b[38;5;129;43;01min\u001b[39;49;00m\u001b[43m \u001b[49m\u001b[43ms\u001b[49m\u001b[38;5;241;43m.\u001b[39;49m\u001b[43msplit\u001b[49m\u001b[43m(\u001b[49m\u001b[38;5;124;43m\"\u001b[39;49m\u001b[38;5;124;43m,\u001b[39;49m\u001b[38;5;124;43m\"\u001b[39;49m\u001b[43m)\u001b[49m\u001b[43m \u001b[49m\u001b[38;5;28;43;01mif\u001b[39;49;00m\u001b[43m \u001b[49m\u001b[43mx\u001b[49m\u001b[38;5;241;43m.\u001b[39;49m\u001b[43misdigit\u001b[49m\u001b[43m]\u001b[49m\u001b[43m)\u001b[49m\u001b[43m)\u001b[49m\n",
      "File \u001b[0;32m/nix/store/7jpngxs7v25ffp6b5lq01kqlpap7dsmn-python3.11-polars-0.20.15/lib/python3.11/site-packages/polars/dataframe/frame.py:8289\u001b[0m, in \u001b[0;36mDataFrame.with_columns\u001b[0;34m(self, *exprs, **named_exprs)\u001b[0m\n\u001b[1;32m   8143\u001b[0m \u001b[38;5;28;01mdef\u001b[39;00m \u001b[38;5;21mwith_columns\u001b[39m(\n\u001b[1;32m   8144\u001b[0m     \u001b[38;5;28mself\u001b[39m,\n\u001b[1;32m   8145\u001b[0m     \u001b[38;5;241m*\u001b[39mexprs: IntoExpr \u001b[38;5;241m|\u001b[39m Iterable[IntoExpr],\n\u001b[1;32m   8146\u001b[0m     \u001b[38;5;241m*\u001b[39m\u001b[38;5;241m*\u001b[39mnamed_exprs: IntoExpr,\n\u001b[1;32m   8147\u001b[0m ) \u001b[38;5;241m-\u001b[39m\u001b[38;5;241m>\u001b[39m DataFrame:\n\u001b[1;32m   8148\u001b[0m \u001b[38;5;250m    \u001b[39m\u001b[38;5;124;03m\"\"\"\u001b[39;00m\n\u001b[1;32m   8149\u001b[0m \u001b[38;5;124;03m    Add columns to this DataFrame.\u001b[39;00m\n\u001b[1;32m   8150\u001b[0m \n\u001b[0;32m   (...)\u001b[0m\n\u001b[1;32m   8287\u001b[0m \u001b[38;5;124;03m    └─────┴──────┴─────────────┘\u001b[39;00m\n\u001b[1;32m   8288\u001b[0m \u001b[38;5;124;03m    \"\"\"\u001b[39;00m\n\u001b[0;32m-> 8289\u001b[0m     \u001b[38;5;28;01mreturn\u001b[39;00m \u001b[38;5;28;43mself\u001b[39;49m\u001b[38;5;241;43m.\u001b[39;49m\u001b[43mlazy\u001b[49m\u001b[43m(\u001b[49m\u001b[43m)\u001b[49m\u001b[38;5;241;43m.\u001b[39;49m\u001b[43mwith_columns\u001b[49m\u001b[43m(\u001b[49m\u001b[38;5;241;43m*\u001b[39;49m\u001b[43mexprs\u001b[49m\u001b[43m,\u001b[49m\u001b[43m \u001b[49m\u001b[38;5;241;43m*\u001b[39;49m\u001b[38;5;241;43m*\u001b[39;49m\u001b[43mnamed_exprs\u001b[49m\u001b[43m)\u001b[49m\u001b[38;5;241;43m.\u001b[39;49m\u001b[43mcollect\u001b[49m\u001b[43m(\u001b[49m\u001b[43m_eager\u001b[49m\u001b[38;5;241;43m=\u001b[39;49m\u001b[38;5;28;43;01mTrue\u001b[39;49;00m\u001b[43m)\u001b[49m\n",
      "File \u001b[0;32m/nix/store/7jpngxs7v25ffp6b5lq01kqlpap7dsmn-python3.11-polars-0.20.15/lib/python3.11/site-packages/polars/lazyframe/frame.py:1934\u001b[0m, in \u001b[0;36mLazyFrame.collect\u001b[0;34m(self, type_coercion, predicate_pushdown, projection_pushdown, simplify_expression, slice_pushdown, comm_subplan_elim, comm_subexpr_elim, no_optimization, streaming, background, _eager)\u001b[0m\n\u001b[1;32m   1931\u001b[0m \u001b[38;5;28;01mif\u001b[39;00m background:\n\u001b[1;32m   1932\u001b[0m     \u001b[38;5;28;01mreturn\u001b[39;00m InProcessQuery(ldf\u001b[38;5;241m.\u001b[39mcollect_concurrently())\n\u001b[0;32m-> 1934\u001b[0m \u001b[38;5;28;01mreturn\u001b[39;00m wrap_df(ldf\u001b[38;5;241m.\u001b[39mcollect())\n",
      "\u001b[0;31mComputeError\u001b[0m: AttributeError: 'Series' object has no attribute 'split'"
     ]
    }
   ],
   "source": [
    "# convert string labels to list and recode from 0 to n-1\n",
    "df = df.with_columns(pl.col(\"labels\").map_elements(lambda s: [int(x)-1 for x in s.split(\",\") if x.isdigit]))\n"
   ]
  },
  {
   "cell_type": "code",
   "execution_count": 71,
   "id": "d09e4f9c-f2aa-44eb-9af1-8e38a58ba8c9",
   "metadata": {},
   "outputs": [
    {
     "ename": "ComputeError",
     "evalue": "TypeError: list indices must be integers or slices, not float",
     "output_type": "error",
     "traceback": [
      "\u001b[0;31m---------------------------------------------------------------------------\u001b[0m",
      "\u001b[0;31mComputeError\u001b[0m                              Traceback (most recent call last)",
      "Cell \u001b[0;32mIn[71], line 7\u001b[0m\n\u001b[1;32m      4\u001b[0m         vec[\u001b[38;5;28mcls\u001b[39m]\u001b[38;5;241m=\u001b[39m\u001b[38;5;241m1\u001b[39m\n\u001b[1;32m      5\u001b[0m     \u001b[38;5;28;01mreturn\u001b[39;00m vec\n\u001b[0;32m----> 7\u001b[0m df \u001b[38;5;241m=\u001b[39m \u001b[43mdf\u001b[49m\u001b[38;5;241;43m.\u001b[39;49m\u001b[43mwith_columns\u001b[49m\u001b[43m(\u001b[49m\u001b[43mpl\u001b[49m\u001b[38;5;241;43m.\u001b[39;49m\u001b[43mcol\u001b[49m\u001b[43m(\u001b[49m\u001b[38;5;124;43m\"\u001b[39;49m\u001b[38;5;124;43mlabels\u001b[39;49m\u001b[38;5;124;43m\"\u001b[39;49m\u001b[43m)\u001b[49m\u001b[38;5;241;43m.\u001b[39;49m\u001b[43mmap_elements\u001b[49m\u001b[43m(\u001b[49m\u001b[38;5;28;43;01mlambda\u001b[39;49;00m\u001b[43m \u001b[49m\u001b[43ml\u001b[49m\u001b[43m:\u001b[49m\u001b[43m \u001b[49m\u001b[43mone_hot\u001b[49m\u001b[43m(\u001b[49m\u001b[43ml\u001b[49m\u001b[43m)\u001b[49m\u001b[43m)\u001b[49m\u001b[43m)\u001b[49m\n\u001b[1;32m      8\u001b[0m df\n",
      "File \u001b[0;32m/nix/store/7jpngxs7v25ffp6b5lq01kqlpap7dsmn-python3.11-polars-0.20.15/lib/python3.11/site-packages/polars/dataframe/frame.py:8289\u001b[0m, in \u001b[0;36mDataFrame.with_columns\u001b[0;34m(self, *exprs, **named_exprs)\u001b[0m\n\u001b[1;32m   8143\u001b[0m \u001b[38;5;28;01mdef\u001b[39;00m \u001b[38;5;21mwith_columns\u001b[39m(\n\u001b[1;32m   8144\u001b[0m     \u001b[38;5;28mself\u001b[39m,\n\u001b[1;32m   8145\u001b[0m     \u001b[38;5;241m*\u001b[39mexprs: IntoExpr \u001b[38;5;241m|\u001b[39m Iterable[IntoExpr],\n\u001b[1;32m   8146\u001b[0m     \u001b[38;5;241m*\u001b[39m\u001b[38;5;241m*\u001b[39mnamed_exprs: IntoExpr,\n\u001b[1;32m   8147\u001b[0m ) \u001b[38;5;241m-\u001b[39m\u001b[38;5;241m>\u001b[39m DataFrame:\n\u001b[1;32m   8148\u001b[0m \u001b[38;5;250m    \u001b[39m\u001b[38;5;124;03m\"\"\"\u001b[39;00m\n\u001b[1;32m   8149\u001b[0m \u001b[38;5;124;03m    Add columns to this DataFrame.\u001b[39;00m\n\u001b[1;32m   8150\u001b[0m \n\u001b[0;32m   (...)\u001b[0m\n\u001b[1;32m   8287\u001b[0m \u001b[38;5;124;03m    └─────┴──────┴─────────────┘\u001b[39;00m\n\u001b[1;32m   8288\u001b[0m \u001b[38;5;124;03m    \"\"\"\u001b[39;00m\n\u001b[0;32m-> 8289\u001b[0m     \u001b[38;5;28;01mreturn\u001b[39;00m \u001b[38;5;28;43mself\u001b[39;49m\u001b[38;5;241;43m.\u001b[39;49m\u001b[43mlazy\u001b[49m\u001b[43m(\u001b[49m\u001b[43m)\u001b[49m\u001b[38;5;241;43m.\u001b[39;49m\u001b[43mwith_columns\u001b[49m\u001b[43m(\u001b[49m\u001b[38;5;241;43m*\u001b[39;49m\u001b[43mexprs\u001b[49m\u001b[43m,\u001b[49m\u001b[43m \u001b[49m\u001b[38;5;241;43m*\u001b[39;49m\u001b[38;5;241;43m*\u001b[39;49m\u001b[43mnamed_exprs\u001b[49m\u001b[43m)\u001b[49m\u001b[38;5;241;43m.\u001b[39;49m\u001b[43mcollect\u001b[49m\u001b[43m(\u001b[49m\u001b[43m_eager\u001b[49m\u001b[38;5;241;43m=\u001b[39;49m\u001b[38;5;28;43;01mTrue\u001b[39;49;00m\u001b[43m)\u001b[49m\n",
      "File \u001b[0;32m/nix/store/7jpngxs7v25ffp6b5lq01kqlpap7dsmn-python3.11-polars-0.20.15/lib/python3.11/site-packages/polars/lazyframe/frame.py:1934\u001b[0m, in \u001b[0;36mLazyFrame.collect\u001b[0;34m(self, type_coercion, predicate_pushdown, projection_pushdown, simplify_expression, slice_pushdown, comm_subplan_elim, comm_subexpr_elim, no_optimization, streaming, background, _eager)\u001b[0m\n\u001b[1;32m   1931\u001b[0m \u001b[38;5;28;01mif\u001b[39;00m background:\n\u001b[1;32m   1932\u001b[0m     \u001b[38;5;28;01mreturn\u001b[39;00m InProcessQuery(ldf\u001b[38;5;241m.\u001b[39mcollect_concurrently())\n\u001b[0;32m-> 1934\u001b[0m \u001b[38;5;28;01mreturn\u001b[39;00m wrap_df(ldf\u001b[38;5;241m.\u001b[39mcollect())\n",
      "\u001b[0;31mComputeError\u001b[0m: TypeError: list indices must be integers or slices, not float"
     ]
    }
   ],
   "source": [
    "def one_hot(lst):\n",
    "    vec = [0]*8\n",
    "    for cls in lst:\n",
    "        vec[cls]=1\n",
    "    return vec\n",
    "    \n",
    "df = df.with_columns(pl.col(\"labels\").map_elements(lambda l: one_hot(l)))\n",
    "df"
   ]
  },
  {
   "cell_type": "code",
   "execution_count": null,
   "id": "cf34087b-dc6e-49a9-9735-3bf087b21389",
   "metadata": {},
   "outputs": [],
   "source": [
    "# exclude labels that are under 100 times occurrence\n",
    "exclude = df.group_by(pl.col(\"labels\")).len().filter(pl.col(\"len\")<99)[\"labels\"].to_list()\n",
    "\n",
    "\n",
    "include = df.group_by(pl.col(\"labels\")).len().filter(pl.col(\"len\")>99)[\"labels\"].to_list()\n",
    "print(len(exclude),len(include))"
   ]
  },
  {
   "cell_type": "code",
   "execution_count": null,
   "id": "9e1a4ae4-12c6-4bcc-89fc-0f76056d9e58",
   "metadata": {},
   "outputs": [],
   "source": [
    "# iterate through rows and construct filter list \n",
    "filter_lst = [] \n",
    "for r in df.iter_rows():\n",
    "    if r[-2] in include:\n",
    "        filter_lst.append(True)\n",
    "    else:\n",
    "        filter_lst.append(False)"
   ]
  },
  {
   "cell_type": "code",
   "execution_count": null,
   "id": "720711aa-0b15-47a5-95ce-05361c047f1b",
   "metadata": {},
   "outputs": [],
   "source": [
    "# add list as series and filter out values \n",
    "df = df.with_columns(flt=pl.Series(filter_lst)).filter(pl.col(\"flt\")==True)"
   ]
  },
  {
   "cell_type": "code",
   "execution_count": null,
   "id": "d7dc4dac-1e62-4872-bc36-1fdc72c38517",
   "metadata": {},
   "outputs": [],
   "source": [
    "# create train-test split\n",
    "from sklearn"
   ]
  },
  {
   "cell_type": "code",
   "execution_count": null,
   "id": "65c40640-962c-4927-aace-68651b7eca9e",
   "metadata": {},
   "outputs": [],
   "source": [
    "df.select(pl.col(\"text\",\"labels\")).write_parquet(\"data.parquet\")"
   ]
  },
  {
   "cell_type": "code",
   "execution_count": null,
   "id": "3cf2281f",
   "metadata": {},
   "outputs": [],
   "source": [
    "import pandas as pd\n",
    "\n",
    "df = pd.DataFrame(df)\n",
    "\n",
    "df.columns = ['text', 'labels', 'lang']"
   ]
  },
  {
   "cell_type": "code",
   "execution_count": null,
   "id": "70947685-5eb4-4d0e-8d9e-0e81218270f9",
   "metadata": {},
   "outputs": [],
   "source": [
    "# convert string labels to list and recode from 0 to n-1\n",
    "# df = df.with_columns(pl.col(\"labels\").map_elements(lambda s: [[int(x)-1] for x in s.split(\",\") if x.isdigit]))\n",
    "import numpy as np\n",
    "\n",
    "def to_array(string):\n",
    "    string = string.replace(\" \", \"\")\n",
    "    number_list = string.split(',')\n",
    "    number_list = [int(num) for num in number_list]\n",
    "    number_array = np.array(number_list)\n",
    "    \n",
    "    return number_array\n",
    "\n",
    "df.labels = df['labels'].apply(to_array)\n",
    "df"
   ]
  },
  {
   "cell_type": "code",
   "execution_count": null,
   "id": "c8ae5bfa-6687-4c05-bf76-e511e0c83b8e",
   "metadata": {},
   "outputs": [],
   "source": [
    "from sklearn.preprocessing import MultiLabelBinarizer\n",
    "\n",
    "\n",
    "def one_hot_encoding(ds):\n",
    "    mlb = MultiLabelBinarizer()\n",
    "    ds = ds.join(pd.DataFrame(mlb.fit_transform(ds.pop('labels')),\n",
    "                          columns=mlb.classes_,\n",
    "                          index=ds.index))\n",
    "    \n",
    "    return ds\n",
    "\n",
    "df = one_hot_encoding(df)\n",
    "\n"
   ]
  },
  {
   "cell_type": "code",
   "execution_count": null,
   "id": "01b541e3-c1f7-4658-b4bf-b395524ac64e",
   "metadata": {},
   "outputs": [],
   "source": [
    "#df = df.with_columns(pl.col('text').map_elements(lambda x: len(x)).alias('len_text'))\n",
    "df\n",
    "# Compute the mean length\n",
    "#mean_length = df.select(pl.col('StringLength').mean())\n",
    "#df['len_text'].mean()"
   ]
  },
  {
   "cell_type": "code",
   "execution_count": null,
   "id": "14250d3d-9967-41d5-a842-bcd3a73e978b",
   "metadata": {},
   "outputs": [],
   "source": [
    "# collapse one-hot columns into listdf\n",
    "pl_df = pl.from_pandas(df)"
   ]
  },
  {
   "cell_type": "code",
   "execution_count": null,
   "id": "43ff047d-9a91-4815-9313-b53418938356",
   "metadata": {},
   "outputs": [],
   "source": [
    "labels = []\n",
    "for r in pl_df.iter_rows():\n",
    "    labels.append(list(r[-8:]))"
   ]
  },
  {
   "cell_type": "code",
   "execution_count": null,
   "id": "c87290aa-01b4-4f7f-a71e-d96b1d8aa950",
   "metadata": {
    "scrolled": true
   },
   "outputs": [],
   "source": [
    "labels"
   ]
  },
  {
   "cell_type": "code",
   "execution_count": null,
   "id": "b345aa68",
   "metadata": {},
   "outputs": [],
   "source": [
    "# delete combinations with less than 100 instances\n",
    "#labels = df[['1', '2', '3', '4', '5', '6', '7', '8']]\n",
    "#print( )\n",
    "#labels_vectors = labels.values.tolist()\n",
    "\n",
    "df.columns = ['text', 'lang', '1', '2', '3', '4', '5', '6', '7', '8']"
   ]
  },
  {
   "cell_type": "code",
   "execution_count": null,
   "id": "cc9e4bcf",
   "metadata": {},
   "outputs": [],
   "source": [
    "freqs = list()\n",
    "\n",
    "for i in range(1,9):\n",
    "    freqs.append(df[str(i)].sum())\n",
    "    print(i, df[str(i)].sum())\n",
    "    \n"
   ]
  },
  {
   "cell_type": "code",
   "execution_count": null,
   "id": "8da23463",
   "metadata": {},
   "outputs": [],
   "source": [
    "import matplotlib.pyplot as plt\n",
    "\n",
    "values = []\n",
    "for i, freq in enumerate(freqs):\n",
    "    values.extend([i+1] * freq)  # i+1 to match the value (1, 2, 3, 4, 5)\n",
    "\n",
    "# Step 3: Create a pandas DataFrame\n",
    "df = pd.DataFrame(values, columns=['Value'])\n",
    "\n",
    "# Step 4: Plot the histogram\n",
    "plt.hist(df['Value'], bins=len(freqs), edgecolor='black')\n",
    "\n",
    "# Customizing the histogram\n",
    "plt.title('Distrbution of individual emotions')\n",
    "plt.xlabel('Emotion')\n",
    "plt.ylabel('Frequency')\n",
    "plt.xticks(range(1, len(freqs) + 1))\n",
    "\n",
    "# Show the plot\n",
    "plt.show()"
   ]
  },
  {
   "cell_type": "code",
   "execution_count": null,
   "id": "162fa39a",
   "metadata": {},
   "outputs": [],
   "source": [
    "from collections import defaultdict\n",
    "\n",
    "d = defaultdict(int)\n",
    "\n",
    "for _, r in df.iterrows():\n",
    "    dat = list(r)[2:10]\n",
    "    d[tuple(dat)] += 1"
   ]
  },
  {
   "cell_type": "code",
   "execution_count": null,
   "id": "0a2f4e2d",
   "metadata": {},
   "outputs": [],
   "source": [
    "for k in sorted(d, key = d.get, reverse=True):\n",
    "    print(k, d[k])"
   ]
  },
  {
   "cell_type": "code",
   "execution_count": null,
   "id": "b8176200",
   "metadata": {},
   "outputs": [],
   "source": [
    "len(d)"
   ]
  },
  {
   "cell_type": "markdown",
   "id": "e2e26e68",
   "metadata": {},
   "source": [
    "## Modeling"
   ]
  },
  {
   "cell_type": "code",
   "execution_count": null,
   "id": "5be439ab",
   "metadata": {},
   "outputs": [],
   "source": []
  },
  {
   "cell_type": "code",
   "execution_count": null,
   "id": "98fb8414",
   "metadata": {},
   "outputs": [],
   "source": [
    "id2labels = {'0':\"anger\",\n",
    "            '1':\"anticipation\",\n",
    "              '2':\"disgust\",\n",
    "              '3':\"fear\",\n",
    "              '4':\"joy\",\n",
    "              '5':\"sadness\",\n",
    "              '6':\"surprise\",\n",
    "              '7':\"trust\",\n",
    "             }\n",
    "\n",
    "# change order key value to recode through retrieval\n",
    "labels2id = {v:k for k,v in labels_xed.items()}"
   ]
  }
 ],
 "metadata": {
  "kernelspec": {
   "display_name": "Python 3 (ipykernel)",
   "language": "python",
   "name": "python3"
  },
  "language_info": {
   "codemirror_mode": {
    "name": "ipython",
    "version": 3
   },
   "file_extension": ".py",
   "mimetype": "text/x-python",
   "name": "python",
   "nbconvert_exporter": "python",
   "pygments_lexer": "ipython3",
   "version": "3.11.8"
  }
 },
 "nbformat": 4,
 "nbformat_minor": 5
}
