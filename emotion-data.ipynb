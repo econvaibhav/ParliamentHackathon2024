{
 "cells": [
  {
   "cell_type": "markdown",
   "id": "170e3545-28eb-494f-9fde-6029c9c2a6e1",
   "metadata": {},
   "source": [
    "# GoEmotions data "
   ]
  },
  {
   "cell_type": "code",
   "execution_count": 35,
   "id": "f73e8293-bf46-4f48-9123-f3f126e2560b",
   "metadata": {},
   "outputs": [
    {
     "name": "stderr",
     "output_type": "stream",
     "text": [
      "/nix/store/yd5z6lnhsjim5ik01zbjaijnagi2mn5d-python3.11-tqdm-4.66.2/lib/python3.11/site-packages/tqdm/auto.py:21: TqdmWarning: IProgress not found. Please update jupyter and ipywidgets. See https://ipywidgets.readthedocs.io/en/stable/user_install.html\n",
      "  from .autonotebook import tqdm as notebook_tqdm\n"
     ]
    },
    {
     "data": {
      "text/plain": [
       "DatasetDict({\n",
       "    train: Dataset({\n",
       "        features: ['text', 'labels', 'id'],\n",
       "        num_rows: 43410\n",
       "    })\n",
       "    validation: Dataset({\n",
       "        features: ['text', 'labels', 'id'],\n",
       "        num_rows: 5426\n",
       "    })\n",
       "    test: Dataset({\n",
       "        features: ['text', 'labels', 'id'],\n",
       "        num_rows: 5427\n",
       "    })\n",
       "})"
      ]
     },
     "execution_count": 35,
     "metadata": {},
     "output_type": "execute_result"
    }
   ],
   "source": [
    "from datasets import load_dataset\n",
    "dataset = load_dataset(\"go_emotions\")\n",
    "\n",
    "dataset"
   ]
  },
  {
   "cell_type": "markdown",
   "id": "b88c5efa-db90-43ca-8377-ccc50f8ec2e5",
   "metadata": {},
   "source": [
    "# XED data"
   ]
  },
  {
   "cell_type": "code",
   "execution_count": 35,
   "id": "3172a870-acc4-432b-a44b-1a824a965d78",
   "metadata": {},
   "outputs": [],
   "source": [
    "import polars as pl\n",
    "import os \n",
    "# get all files per country\n",
    "path = \"emotion-data/XED\"\n",
    "files = os.listdir(path)"
   ]
  },
  {
   "cell_type": "code",
   "execution_count": 56,
   "id": "84a0369b-56eb-4c0e-abeb-7e34ccc4f80f",
   "metadata": {},
   "outputs": [],
   "source": [
    "df = pl.DataFrame()\n",
    "schema = {\"text\":pl.String,\n",
    "          \"labels\":pl.String,\n",
    "         \"country\":pl.String}\n",
    "for f in files:\n",
    "    tmp = pl.read_csv(path+\"/\"+f, separator=\"\\t\",schema=schema, ignore_errors=True)\n",
    "    country = f.split(\"-\")[0]\n",
    "    tmp = tmp.with_columns(country=pl.Series([country]*len(tmp)))\n",
    "    if tmp.is_empty():\n",
    "        df=tmp\n",
    "    else:\n",
    "        df=pl.concat([df,tmp],how=\"vertical\")"
   ]
  },
  {
   "cell_type": "code",
   "execution_count": 57,
   "id": "f17daabb-c6a1-4a4f-a94d-ab2e4e61db78",
   "metadata": {},
   "outputs": [
    {
     "data": {
      "text/html": [
       "<div><style>\n",
       ".dataframe > thead > tr,\n",
       ".dataframe > tbody > tr {\n",
       "  text-align: right;\n",
       "  white-space: pre-wrap;\n",
       "}\n",
       "</style>\n",
       "<small>shape: (207_909, 3)</small><table border=\"1\" class=\"dataframe\"><thead><tr><th>text</th><th>labels</th><th>country</th></tr><tr><td>str</td><td>str</td><td>str</td></tr></thead><tbody><tr><td>&quot;Ruumiita ripus…</td><td>&quot;1, 3, 4&quot;</td><td>&quot;fi&quot;</td></tr><tr><td>&quot;Ei mitään mutt…</td><td>&quot;1&quot;</td><td>&quot;fi&quot;</td></tr><tr><td>&quot;Älä anna hänen…</td><td>&quot;1&quot;</td><td>&quot;fi&quot;</td></tr><tr><td>&quot;Laske aseet ma…</td><td>&quot;1, 4&quot;</td><td>&quot;fi&quot;</td></tr><tr><td>&quot;Vittuun toimis…</td><td>&quot;1&quot;</td><td>&quot;fi&quot;</td></tr><tr><td>&hellip;</td><td>&hellip;</td><td>&hellip;</td></tr><tr><td>&quot;美國人民 我聽到了你們的聲音…</td><td>&quot;8&quot;</td><td>&quot;zh&quot;</td></tr><tr><td>&quot;她很擅長她的工作&quot;</td><td>&quot;1, 3&quot;</td><td>&quot;zh&quot;</td></tr><tr><td>&quot;湯姆...&quot;</td><td>&quot;8&quot;</td><td>&quot;zh&quot;</td></tr><tr><td>&quot;如果他們要和我見面怎么辦&quot;</td><td>&quot;2, 5&quot;</td><td>&quot;zh&quot;</td></tr><tr><td>&quot;我沒有朋友&quot;</td><td>&quot;2, 5&quot;</td><td>&quot;zh&quot;</td></tr></tbody></table></div>"
      ],
      "text/plain": [
       "shape: (207_909, 3)\n",
       "┌───────────────────────────────────┬─────────┬─────────┐\n",
       "│ text                              ┆ labels  ┆ country │\n",
       "│ ---                               ┆ ---     ┆ ---     │\n",
       "│ str                               ┆ str     ┆ str     │\n",
       "╞═══════════════════════════════════╪═════════╪═════════╡\n",
       "│ Ruumiita ripustettuina - ruumiit… ┆ 1, 3, 4 ┆ fi      │\n",
       "│ Ei mitään muttia.                 ┆ 1       ┆ fi      │\n",
       "│ Älä anna hänen määräillä sinua!   ┆ 1       ┆ fi      │\n",
       "│ Laske aseet maahan.               ┆ 1, 4    ┆ fi      │\n",
       "│ Vittuun toimisto!                 ┆ 1       ┆ fi      │\n",
       "│ …                                 ┆ …       ┆ …       │\n",
       "│ 美國人民 我聽到了你們的聲音\n",
       "       ┆ 8       ┆ zh      │\n",
       "│ da/2017/6411842/…                 ┆         ┆         │\n",
       "│ 她很擅長她的工作                  ┆ 1, 3    ┆ zh      │\n",
       "│ 湯姆...                           ┆ 8       ┆ zh      │\n",
       "│ 如果他們要和我見面怎么辦          ┆ 2, 5    ┆ zh      │\n",
       "│ 我沒有朋友                        ┆ 2, 5    ┆ zh      │\n",
       "└───────────────────────────────────┴─────────┴─────────┘"
      ]
     },
     "execution_count": 57,
     "metadata": {},
     "output_type": "execute_result"
    }
   ],
   "source": [
    "df"
   ]
  },
  {
   "cell_type": "code",
   "execution_count": 51,
   "id": "6240f776-457f-400c-af56-192e791e77b8",
   "metadata": {},
   "outputs": [
    {
     "data": {
      "text/html": [
       "<div><style>\n",
       ".dataframe > thead > tr,\n",
       ".dataframe > tbody > tr {\n",
       "  text-align: right;\n",
       "  white-space: pre-wrap;\n",
       "}\n",
       "</style>\n",
       "<small>shape: (318,)</small><table border=\"1\" class=\"dataframe\"><thead><tr><th>labels</th></tr><tr><td>str</td></tr></thead><tbody><tr><td>&quot;4, 7, 1&quot;</td></tr><tr><td>&quot;1, 5, 7&quot;</td></tr><tr><td>&quot;1&quot;</td></tr><tr><td>&quot;4, 5, 6, 7, 8&quot;</td></tr><tr><td>&quot;8, 5, 6, 7&quot;</td></tr><tr><td>&hellip;</td></tr><tr><td>&quot;1, 3, 4, 6, 7,…</td></tr><tr><td>&quot;8, 3, 6, 7&quot;</td></tr><tr><td>&quot;8, 2, 5, 7&quot;</td></tr><tr><td>&quot;1, 2, 4, 6, 7,…</td></tr><tr><td>&quot;2, 4, 7&quot;</td></tr></tbody></table></div>"
      ],
      "text/plain": [
       "shape: (318,)\n",
       "Series: 'labels' [str]\n",
       "[\n",
       "\t\"4, 7, 1\"\n",
       "\t\"1, 5, 7\"\n",
       "\t\"1\"\n",
       "\t\"4, 5, 6, 7, 8\"\n",
       "\t\"8, 5, 6, 7\"\n",
       "\t…\n",
       "\t\"1, 3, 4, 6, 7,…\n",
       "\t\"8, 3, 6, 7\"\n",
       "\t\"8, 2, 5, 7\"\n",
       "\t\"1, 2, 4, 6, 7,…\n",
       "\t\"2, 4, 7\"\n",
       "]"
      ]
     },
     "execution_count": 51,
     "metadata": {},
     "output_type": "execute_result"
    }
   ],
   "source": [
    "df[\"labels\"].unique()"
   ]
  },
  {
   "cell_type": "code",
   "execution_count": 59,
   "id": "70947685-5eb4-4d0e-8d9e-0e81218270f9",
   "metadata": {},
   "outputs": [
    {
     "ename": "ComputeError",
     "evalue": "AttributeError: 'Series' object has no attribute 'split'",
     "output_type": "error",
     "traceback": [
      "\u001b[0;31m---------------------------------------------------------------------------\u001b[0m",
      "\u001b[0;31mComputeError\u001b[0m                              Traceback (most recent call last)",
      "Cell \u001b[0;32mIn[59], line 2\u001b[0m\n\u001b[1;32m      1\u001b[0m \u001b[38;5;66;03m# convert string labels to list and recode from 0 to n-1\u001b[39;00m\n\u001b[0;32m----> 2\u001b[0m df \u001b[38;5;241m=\u001b[39m \u001b[43mdf\u001b[49m\u001b[38;5;241;43m.\u001b[39;49m\u001b[43mwith_columns\u001b[49m\u001b[43m(\u001b[49m\u001b[43mpl\u001b[49m\u001b[38;5;241;43m.\u001b[39;49m\u001b[43mcol\u001b[49m\u001b[43m(\u001b[49m\u001b[38;5;124;43m\"\u001b[39;49m\u001b[38;5;124;43mlabels\u001b[39;49m\u001b[38;5;124;43m\"\u001b[39;49m\u001b[43m)\u001b[49m\u001b[38;5;241;43m.\u001b[39;49m\u001b[43mmap_elements\u001b[49m\u001b[43m(\u001b[49m\u001b[38;5;28;43;01mlambda\u001b[39;49;00m\u001b[43m \u001b[49m\u001b[43ms\u001b[49m\u001b[43m:\u001b[49m\u001b[43m \u001b[49m\u001b[43m[\u001b[49m\u001b[43m[\u001b[49m\u001b[38;5;28;43mint\u001b[39;49m\u001b[43m(\u001b[49m\u001b[43mx\u001b[49m\u001b[43m)\u001b[49m\u001b[38;5;241;43m-\u001b[39;49m\u001b[38;5;241;43m1\u001b[39;49m\u001b[43m]\u001b[49m\u001b[43m \u001b[49m\u001b[38;5;28;43;01mfor\u001b[39;49;00m\u001b[43m \u001b[49m\u001b[43mx\u001b[49m\u001b[43m \u001b[49m\u001b[38;5;129;43;01min\u001b[39;49;00m\u001b[43m \u001b[49m\u001b[43ms\u001b[49m\u001b[38;5;241;43m.\u001b[39;49m\u001b[43msplit\u001b[49m\u001b[43m(\u001b[49m\u001b[38;5;124;43m\"\u001b[39;49m\u001b[38;5;124;43m,\u001b[39;49m\u001b[38;5;124;43m\"\u001b[39;49m\u001b[43m)\u001b[49m\u001b[43m \u001b[49m\u001b[38;5;28;43;01mif\u001b[39;49;00m\u001b[43m \u001b[49m\u001b[43mx\u001b[49m\u001b[38;5;241;43m.\u001b[39;49m\u001b[43misdigit\u001b[49m\u001b[43m]\u001b[49m\u001b[43m)\u001b[49m\u001b[43m)\u001b[49m\n",
      "File \u001b[0;32m/nix/store/7jpngxs7v25ffp6b5lq01kqlpap7dsmn-python3.11-polars-0.20.15/lib/python3.11/site-packages/polars/dataframe/frame.py:8289\u001b[0m, in \u001b[0;36mDataFrame.with_columns\u001b[0;34m(self, *exprs, **named_exprs)\u001b[0m\n\u001b[1;32m   8143\u001b[0m \u001b[38;5;28;01mdef\u001b[39;00m \u001b[38;5;21mwith_columns\u001b[39m(\n\u001b[1;32m   8144\u001b[0m     \u001b[38;5;28mself\u001b[39m,\n\u001b[1;32m   8145\u001b[0m     \u001b[38;5;241m*\u001b[39mexprs: IntoExpr \u001b[38;5;241m|\u001b[39m Iterable[IntoExpr],\n\u001b[1;32m   8146\u001b[0m     \u001b[38;5;241m*\u001b[39m\u001b[38;5;241m*\u001b[39mnamed_exprs: IntoExpr,\n\u001b[1;32m   8147\u001b[0m ) \u001b[38;5;241m-\u001b[39m\u001b[38;5;241m>\u001b[39m DataFrame:\n\u001b[1;32m   8148\u001b[0m \u001b[38;5;250m    \u001b[39m\u001b[38;5;124;03m\"\"\"\u001b[39;00m\n\u001b[1;32m   8149\u001b[0m \u001b[38;5;124;03m    Add columns to this DataFrame.\u001b[39;00m\n\u001b[1;32m   8150\u001b[0m \n\u001b[0;32m   (...)\u001b[0m\n\u001b[1;32m   8287\u001b[0m \u001b[38;5;124;03m    └─────┴──────┴─────────────┘\u001b[39;00m\n\u001b[1;32m   8288\u001b[0m \u001b[38;5;124;03m    \"\"\"\u001b[39;00m\n\u001b[0;32m-> 8289\u001b[0m     \u001b[38;5;28;01mreturn\u001b[39;00m \u001b[38;5;28;43mself\u001b[39;49m\u001b[38;5;241;43m.\u001b[39;49m\u001b[43mlazy\u001b[49m\u001b[43m(\u001b[49m\u001b[43m)\u001b[49m\u001b[38;5;241;43m.\u001b[39;49m\u001b[43mwith_columns\u001b[49m\u001b[43m(\u001b[49m\u001b[38;5;241;43m*\u001b[39;49m\u001b[43mexprs\u001b[49m\u001b[43m,\u001b[49m\u001b[43m \u001b[49m\u001b[38;5;241;43m*\u001b[39;49m\u001b[38;5;241;43m*\u001b[39;49m\u001b[43mnamed_exprs\u001b[49m\u001b[43m)\u001b[49m\u001b[38;5;241;43m.\u001b[39;49m\u001b[43mcollect\u001b[49m\u001b[43m(\u001b[49m\u001b[43m_eager\u001b[49m\u001b[38;5;241;43m=\u001b[39;49m\u001b[38;5;28;43;01mTrue\u001b[39;49;00m\u001b[43m)\u001b[49m\n",
      "File \u001b[0;32m/nix/store/7jpngxs7v25ffp6b5lq01kqlpap7dsmn-python3.11-polars-0.20.15/lib/python3.11/site-packages/polars/lazyframe/frame.py:1934\u001b[0m, in \u001b[0;36mLazyFrame.collect\u001b[0;34m(self, type_coercion, predicate_pushdown, projection_pushdown, simplify_expression, slice_pushdown, comm_subplan_elim, comm_subexpr_elim, no_optimization, streaming, background, _eager)\u001b[0m\n\u001b[1;32m   1931\u001b[0m \u001b[38;5;28;01mif\u001b[39;00m background:\n\u001b[1;32m   1932\u001b[0m     \u001b[38;5;28;01mreturn\u001b[39;00m InProcessQuery(ldf\u001b[38;5;241m.\u001b[39mcollect_concurrently())\n\u001b[0;32m-> 1934\u001b[0m \u001b[38;5;28;01mreturn\u001b[39;00m wrap_df(ldf\u001b[38;5;241m.\u001b[39mcollect())\n",
      "\u001b[0;31mComputeError\u001b[0m: AttributeError: 'Series' object has no attribute 'split'"
     ]
    }
   ],
   "source": [
    "# convert string labels to list and recode from 0 to n-1\n",
    "df = df.with_columns(pl.col(\"labels\").map_elements(lambda s: [[int(x)-1] for x in s.split(\",\") if x.isdigit]))"
   ]
  },
  {
   "cell_type": "code",
   "execution_count": 60,
   "id": "2b3e625d-c325-406a-aaa6-938fb2945e44",
   "metadata": {},
   "outputs": [
    {
     "data": {
      "text/html": [
       "<div><style>\n",
       ".dataframe > thead > tr,\n",
       ".dataframe > tbody > tr {\n",
       "  text-align: right;\n",
       "  white-space: pre-wrap;\n",
       "}\n",
       "</style>\n",
       "<small>shape: (207_909, 3)</small><table border=\"1\" class=\"dataframe\"><thead><tr><th>text</th><th>labels</th><th>country</th></tr><tr><td>str</td><td>list[list[i64]]</td><td>str</td></tr></thead><tbody><tr><td>&quot;Ruumiita ripus…</td><td>[[0], [2], [3]]</td><td>&quot;fi&quot;</td></tr><tr><td>&quot;Ei mitään mutt…</td><td>[[0]]</td><td>&quot;fi&quot;</td></tr><tr><td>&quot;Älä anna hänen…</td><td>[[0]]</td><td>&quot;fi&quot;</td></tr><tr><td>&quot;Laske aseet ma…</td><td>[[0], [3]]</td><td>&quot;fi&quot;</td></tr><tr><td>&quot;Vittuun toimis…</td><td>[[0]]</td><td>&quot;fi&quot;</td></tr><tr><td>&hellip;</td><td>&hellip;</td><td>&hellip;</td></tr><tr><td>&quot;美國人民 我聽到了你們的聲音…</td><td>[[7]]</td><td>&quot;zh&quot;</td></tr><tr><td>&quot;她很擅長她的工作&quot;</td><td>[[0], [2]]</td><td>&quot;zh&quot;</td></tr><tr><td>&quot;湯姆...&quot;</td><td>[[7]]</td><td>&quot;zh&quot;</td></tr><tr><td>&quot;如果他們要和我見面怎么辦&quot;</td><td>[[1], [4]]</td><td>&quot;zh&quot;</td></tr><tr><td>&quot;我沒有朋友&quot;</td><td>[[1], [4]]</td><td>&quot;zh&quot;</td></tr></tbody></table></div>"
      ],
      "text/plain": [
       "shape: (207_909, 3)\n",
       "┌───────────────────────────────────┬─────────────────┬─────────┐\n",
       "│ text                              ┆ labels          ┆ country │\n",
       "│ ---                               ┆ ---             ┆ ---     │\n",
       "│ str                               ┆ list[list[i64]] ┆ str     │\n",
       "╞═══════════════════════════════════╪═════════════════╪═════════╡\n",
       "│ Ruumiita ripustettuina - ruumiit… ┆ [[0], [2], [3]] ┆ fi      │\n",
       "│ Ei mitään muttia.                 ┆ [[0]]           ┆ fi      │\n",
       "│ Älä anna hänen määräillä sinua!   ┆ [[0]]           ┆ fi      │\n",
       "│ Laske aseet maahan.               ┆ [[0], [3]]      ┆ fi      │\n",
       "│ Vittuun toimisto!                 ┆ [[0]]           ┆ fi      │\n",
       "│ …                                 ┆ …               ┆ …       │\n",
       "│ 美國人民 我聽到了你們的聲音\n",
       "       ┆ [[7]]           ┆ zh      │\n",
       "│ da/2017/6411842/…                 ┆                 ┆         │\n",
       "│ 她很擅長她的工作                  ┆ [[0], [2]]      ┆ zh      │\n",
       "│ 湯姆...                           ┆ [[7]]           ┆ zh      │\n",
       "│ 如果他們要和我見面怎么辦          ┆ [[1], [4]]      ┆ zh      │\n",
       "│ 我沒有朋友                        ┆ [[1], [4]]      ┆ zh      │\n",
       "└───────────────────────────────────┴─────────────────┴─────────┘"
      ]
     },
     "execution_count": 60,
     "metadata": {},
     "output_type": "execute_result"
    }
   ],
   "source": [
    "df"
   ]
  },
  {
   "cell_type": "code",
   "execution_count": 41,
   "id": "f906bd32-510f-41f3-9572-ec59ed5b1227",
   "metadata": {},
   "outputs": [
    {
     "name": "stdout",
     "output_type": "stream",
     "text": [
      "mk\n",
      "ml\n",
      "\n",
      "m\n",
      "h\n",
      "zh\n",
      "fa\n",
      "annotated\n",
      "2\n",
      "gl\n",
      "b\n",
      "f\n",
      "hu\n",
      "d\n",
      "fi-annotated\n",
      "da\n",
      "bg\n",
      "w\n",
      "k\n",
      "l\n",
      "a\n",
      "u\n"
     ]
    }
   ],
   "source": [
    "# exclude countries not present in parlamint 4.0 dataset\n",
    "# country codes by ISO 3166 in parlamint\n",
    "country_codes = [\"BA\",\"BE\",\"AT\",\"BG\",\"CZ\",\"DK\",\"EE\",\"ES\",\"FI\",\"FR\",\"GB\",\n",
    "                 \"GR\",\"HR\",\"HU\",\"IS\",\"IT\",\"LV\",\"NL\",\"NO\",\"PL\",\"PT\",\"RS\",\n",
    "                 \"SE\",\"SI\",\"TR\",\"UA\"]\n",
    "\n",
    "for i in df[\"country\"].unique():\n",
    "    print(i)"
   ]
  },
  {
   "cell_type": "markdown",
   "id": "f106a7e3-056d-49e0-9df2-0a22d7a789fd",
   "metadata": {},
   "source": [
    "# recode labels"
   ]
  },
  {
   "cell_type": "code",
   "execution_count": 89,
   "id": "8cee6a43-a250-495a-a9dd-a98e8e6574f5",
   "metadata": {},
   "outputs": [],
   "source": [
    "labels_goem = {'0': \"admiration\",\n",
    "              '1': \"amusement\",\n",
    "              '2': \"anger\",\n",
    "              '3': \"annoyance\",\n",
    "              '4': \"approval\",\n",
    "              '5': \"caring\",\n",
    "              '6': \"confusion\",\n",
    "              '7': \"curiosity\",\n",
    "              '8': \"desire\",\n",
    "              '9': \"disappointment\",\n",
    "              '10': \"disapproval\",\n",
    "              '11': \"disgust\",\n",
    "              '12': \"embarrassment\", \n",
    "              '13': \"excitement\",\n",
    "              '14': \"fear\",\n",
    "              '15': \"gratitude\",\n",
    "              '16': \"grief\",\n",
    "              '17': \"joy\",\n",
    "              '18': \"love\",\n",
    "              '19': \"nervousness\",\n",
    "              '20': \"optimism\",\n",
    "              '21': \"pride\",\n",
    "              '22': \"realization\",\n",
    "              '23': \"relief\",\n",
    "              '24': \"remorse\",\n",
    "              '25': \"sadness\",\n",
    "              '26': \"surprise\",\n",
    "              '27': \"neutral\",\n",
    "}"
   ]
  },
  {
   "cell_type": "code",
   "execution_count": 90,
   "id": "64d41fe0-5a99-476f-9bff-ec9742ef9241",
   "metadata": {},
   "outputs": [],
   "source": [
    "labels_xed = {'1':\"anger\", \n",
    "            '2':\"anticipation\",\n",
    "              '3':\"disgust\", \n",
    "              '4':\"fear\", \n",
    "              '5':\"joy\", \n",
    "              '6':\"sadness\", \n",
    "              '7':\"surprise\", \n",
    "              '8':\"trust\",\n",
    "             }"
   ]
  },
  {
   "cell_type": "code",
   "execution_count": 91,
   "id": "c9f29cf9-b918-4803-ada9-709f0bdd5fc6",
   "metadata": {},
   "outputs": [],
   "source": [
    "# change order key value to recode through retrieval\n",
    "labels_goem = {v:k for k,v in labels_goem.items()}\n",
    "labels_xed = {v:k for k,v in labels_xed.items()}"
   ]
  },
  {
   "cell_type": "code",
   "execution_count": 92,
   "id": "efd1aeb5-41f5-404d-820c-d6165b6bddee",
   "metadata": {},
   "outputs": [
    {
     "data": {
      "text/plain": [
       "{'admiration': '0',\n",
       " 'amusement': '1',\n",
       " 'anger': '2',\n",
       " 'annoyance': '3',\n",
       " 'approval': '4',\n",
       " 'caring': '5',\n",
       " 'confusion': '6',\n",
       " 'curiosity': '7',\n",
       " 'desire': '8',\n",
       " 'disappointment': '9',\n",
       " 'disapproval': '10',\n",
       " 'disgust': '11',\n",
       " 'embarrassment': '12',\n",
       " 'excitement': '13',\n",
       " 'fear': '14',\n",
       " 'gratitude': '15',\n",
       " 'grief': '16',\n",
       " 'joy': '17',\n",
       " 'love': '18',\n",
       " 'nervousness': '19',\n",
       " 'optimism': '20',\n",
       " 'pride': '21',\n",
       " 'realization': '22',\n",
       " 'relief': '23',\n",
       " 'remorse': '24',\n",
       " 'sadness': '25',\n",
       " 'surprise': '26',\n",
       " 'neutral': '27'}"
      ]
     },
     "execution_count": 92,
     "metadata": {},
     "output_type": "execute_result"
    }
   ],
   "source": [
    "labels_goem"
   ]
  },
  {
   "cell_type": "code",
   "execution_count": 93,
   "id": "c6260946-2da6-4b9b-a4b4-f20edac6a24f",
   "metadata": {},
   "outputs": [
    {
     "name": "stdout",
     "output_type": "stream",
     "text": [
      "anger 2\n",
      "anticipation None\n",
      "disgust 11\n",
      "fear 14\n",
      "joy 17\n",
      "sadness 25\n",
      "surprise 26\n",
      "trust None\n"
     ]
    },
    {
     "data": {
      "text/plain": [
       "{'1': '2',\n",
       " '2': None,\n",
       " '3': '11',\n",
       " '4': '14',\n",
       " '5': '17',\n",
       " '6': '25',\n",
       " '7': '26',\n",
       " '8': None}"
      ]
     },
     "execution_count": 93,
     "metadata": {},
     "output_type": "execute_result"
    }
   ],
   "source": [
    "recode_dict = {}\n",
    "for k in labels_xed.keys():\n",
    "    label = labels_goem.get(k)\n",
    "    print(k,label)\n",
    "    recode_dict[labels_xed[k]]=label\n",
    "recode_dict"
   ]
  },
  {
   "cell_type": "markdown",
   "id": "390c893b-6b9e-416e-bc22-1be22507a0a3",
   "metadata": {},
   "source": [
    "# Model training notes"
   ]
  },
  {
   "cell_type": "markdown",
   "id": "1f71b74f-8d3b-405a-9097-f241e26946f4",
   "metadata": {},
   "source": [
    "- Train two different models: one multi- and one single-label\n",
    "- Train one model on only english data and one on translated data\n",
    "- Train one model on a combination of XED and GoEmotions data"
   ]
  }
 ],
 "metadata": {
  "kernelspec": {
   "display_name": "Python 3 (ipykernel)",
   "language": "python",
   "name": "python3"
  },
  "language_info": {
   "codemirror_mode": {
    "name": "ipython",
    "version": 3
   },
   "file_extension": ".py",
   "mimetype": "text/x-python",
   "name": "python",
   "nbconvert_exporter": "python",
   "pygments_lexer": "ipython3",
   "version": "3.11.8"
  }
 },
 "nbformat": 4,
 "nbformat_minor": 5
}
